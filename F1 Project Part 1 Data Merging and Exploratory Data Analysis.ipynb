{
 "cells": [
  {
   "cell_type": "code",
   "execution_count": 6,
   "id": "98c3b814-0138-4309-a401-6e9161426cdd",
   "metadata": {
    "tags": []
   },
   "outputs": [],
   "source": [
    "import pandas as pd \n",
    "import numpy as np\n",
    "import matplotlib.pyplot as plt\n",
    "import seaborn as sns "
   ]
  },
  {
   "cell_type": "markdown",
   "id": "edca2bcd-9831-4da2-9e7e-979431309f1f",
   "metadata": {},
   "source": [
    "### Part 1: Loading CSVs"
   ]
  },
  {
   "cell_type": "code",
   "execution_count": 8,
   "id": "82ff9e52-abe2-4b08-bdc6-30aa06ae09e8",
   "metadata": {
    "tags": []
   },
   "outputs": [
    {
     "name": "stdout",
     "output_type": "stream",
     "text": [
      "<class 'pandas.core.frame.DataFrame'>\n",
      "RangeIndex: 190 entries, 0 to 189\n",
      "Data columns (total 4 columns):\n",
      " #   Column     Non-Null Count  Dtype \n",
      "---  ------     --------------  ----- \n",
      " 0   raceId     190 non-null    int64 \n",
      " 1   year       190 non-null    int64 \n",
      " 2   circuitId  190 non-null    int64 \n",
      " 3   race_name  190 non-null    object\n",
      "dtypes: int64(3), object(1)\n",
      "memory usage: 6.1+ KB\n"
     ]
    }
   ],
   "source": [
    "races = pd.read_csv(\"races.csv\", usecols = ['raceId', 'year', 'circuitId', 'name'])\n",
    "races.rename(columns = {'name' : 'race_name'}, inplace = True)\n",
    "races.info()"
   ]
  },
  {
   "cell_type": "code",
   "execution_count": 9,
   "id": "7e262df8-1943-4d35-9651-eba4b9064562",
   "metadata": {
    "tags": []
   },
   "outputs": [
    {
     "data": {
      "text/plain": [
       "[2016, 2017, 2018, 2019, 2020, 2021, 2022, 2023, 2024]"
      ]
     },
     "execution_count": 9,
     "metadata": {},
     "output_type": "execute_result"
    }
   ],
   "source": [
    "# What years do we have in the dataset?\n",
    "\n",
    "sorted(races['year'].unique())"
   ]
  },
  {
   "cell_type": "code",
   "execution_count": 10,
   "id": "45cd6d9f-e3ba-4d33-a61b-c9812d5c3cfe",
   "metadata": {
    "tags": []
   },
   "outputs": [
    {
     "name": "stdout",
     "output_type": "stream",
     "text": [
      "<class 'pandas.core.frame.DataFrame'>\n",
      "RangeIndex: 26399 entries, 0 to 26398\n",
      "Data columns (total 6 columns):\n",
      " #   Column                Non-Null Count  Dtype  \n",
      "---  ------                --------------  -----  \n",
      " 0   raceId                26399 non-null  int64  \n",
      " 1   driverId              26399 non-null  int64  \n",
      " 2   constructorId         26399 non-null  int64  \n",
      " 3   race_points           26399 non-null  float64\n",
      " 4   race_fastestLapTime   26399 non-null  object \n",
      " 5   race_fastestLapSpeed  26399 non-null  object \n",
      "dtypes: float64(1), int64(3), object(2)\n",
      "memory usage: 1.2+ MB\n"
     ]
    }
   ],
   "source": [
    "# Load results data\n",
    "\n",
    "results = pd.read_csv(\"results.csv\", usecols = ['raceId', 'driverId', 'constructorId', 'points', 'fastestLapTime', 'fastestLapSpeed'])\n",
    "results.rename(columns = {'points' : 'race_points'}, inplace = True)\n",
    "results.rename(columns = {'fastestLapTime' : 'race_fastestLapTime', 'fastestLapSpeed' : 'race_fastestLapSpeed'}, inplace = True)\n",
    "results.info()"
   ]
  },
  {
   "cell_type": "code",
   "execution_count": 11,
   "id": "8e04d7bb-07c1-40d7-bc32-029b146d1103",
   "metadata": {
    "tags": []
   },
   "outputs": [
    {
     "name": "stdout",
     "output_type": "stream",
     "text": [
      "<class 'pandas.core.frame.DataFrame'>\n",
      "RangeIndex: 10134 entries, 0 to 10133\n",
      "Data columns (total 7 columns):\n",
      " #   Column         Non-Null Count  Dtype \n",
      "---  ------         --------------  ----- \n",
      " 0   qualifyId      10134 non-null  int64 \n",
      " 1   raceId         10134 non-null  int64 \n",
      " 2   driverId       10134 non-null  int64 \n",
      " 3   constructorId  10134 non-null  int64 \n",
      " 4   q1             10134 non-null  object\n",
      " 5   q2             10125 non-null  object\n",
      " 6   q3             10116 non-null  object\n",
      "dtypes: int64(4), object(3)\n",
      "memory usage: 554.3+ KB\n"
     ]
    }
   ],
   "source": [
    "# load quali data\n",
    "\n",
    "quali = pd.read_csv(\"qualifying.csv\", usecols = ['qualifyId', 'raceId', 'driverId', 'constructorId', 'q1', 'q2', 'q3'])\n",
    "quali.info()"
   ]
  },
  {
   "cell_type": "code",
   "execution_count": 12,
   "id": "bb041f7a-1145-4c3d-8dc6-c53ea42712a6",
   "metadata": {
    "tags": []
   },
   "outputs": [
    {
     "name": "stdout",
     "output_type": "stream",
     "text": [
      "<class 'pandas.core.frame.DataFrame'>\n",
      "RangeIndex: 280 entries, 0 to 279\n",
      "Data columns (total 5 columns):\n",
      " #   Column                 Non-Null Count  Dtype \n",
      "---  ------                 --------------  ----- \n",
      " 0   raceId                 280 non-null    int64 \n",
      " 1   driverId               280 non-null    int64 \n",
      " 2   constructorId          280 non-null    int64 \n",
      " 3   sprint_points          280 non-null    int64 \n",
      " 4   sprint_fastestLapTime  280 non-null    object\n",
      "dtypes: int64(4), object(1)\n",
      "memory usage: 11.1+ KB\n"
     ]
    }
   ],
   "source": [
    "# Load sprint data\n",
    "\n",
    "sprint = pd.read_csv(\"sprint_results.csv\", usecols = ['raceId', 'driverId', 'constructorId', 'points', 'fastestLapTime'])\n",
    "sprint.rename(columns = {'points' : 'sprint_points', 'fastestLapTime' : 'sprint_fastestLapTime'}, inplace = True)\n",
    "sprint.info()"
   ]
  },
  {
   "cell_type": "code",
   "execution_count": 13,
   "id": "d88599ad-d665-47a1-b3bf-70d780439e86",
   "metadata": {
    "tags": []
   },
   "outputs": [
    {
     "name": "stdout",
     "output_type": "stream",
     "text": [
      "<class 'pandas.core.frame.DataFrame'>\n",
      "RangeIndex: 859 entries, 0 to 858\n",
      "Data columns (total 4 columns):\n",
      " #   Column            Non-Null Count  Dtype \n",
      "---  ------            --------------  ----- \n",
      " 0   driverId          859 non-null    int64 \n",
      " 1   drivers_forename  859 non-null    object\n",
      " 2   drivers_surname   859 non-null    object\n",
      " 3   dob               859 non-null    object\n",
      "dtypes: int64(1), object(3)\n",
      "memory usage: 27.0+ KB\n"
     ]
    }
   ],
   "source": [
    "# Load drivers data\n",
    "\n",
    "drivers = pd.read_csv(\"drivers.csv\", usecols = ['driverId', 'forename', 'surname', 'dob'])\n",
    "drivers.rename(columns = {'forename' : 'drivers_forename', 'surname' : 'drivers_surname'}, inplace = True)\n",
    "drivers.info()"
   ]
  },
  {
   "cell_type": "code",
   "execution_count": 14,
   "id": "5b68d380-b460-4755-920d-41738c719c68",
   "metadata": {
    "tags": []
   },
   "outputs": [
    {
     "name": "stdout",
     "output_type": "stream",
     "text": [
      "<class 'pandas.core.frame.DataFrame'>\n",
      "RangeIndex: 77 entries, 0 to 76\n",
      "Data columns (total 3 columns):\n",
      " #   Column            Non-Null Count  Dtype \n",
      "---  ------            --------------  ----- \n",
      " 0   circuitId         77 non-null     int64 \n",
      " 1   circuit_name      77 non-null     object\n",
      " 2   circuit_altitude  77 non-null     int64 \n",
      "dtypes: int64(2), object(1)\n",
      "memory usage: 1.9+ KB\n"
     ]
    }
   ],
   "source": [
    "# Load circuits data\n",
    "\n",
    "circuit = pd.read_csv(\"circuits.csv\", usecols = ['circuitId', 'name', 'alt'])\n",
    "circuit.rename(columns = {'name' : 'circuit_name', 'alt' : 'circuit_altitude'}, inplace = True)\n",
    "circuit.info()"
   ]
  },
  {
   "cell_type": "code",
   "execution_count": 15,
   "id": "7916ec82-22a3-48a0-8664-2094612a0686",
   "metadata": {
    "tags": []
   },
   "outputs": [
    {
     "name": "stdout",
     "output_type": "stream",
     "text": [
      "<class 'pandas.core.frame.DataFrame'>\n",
      "RangeIndex: 12445 entries, 0 to 12444\n",
      "Data columns (total 3 columns):\n",
      " #   Column              Non-Null Count  Dtype  \n",
      "---  ------              --------------  -----  \n",
      " 0   raceId              12445 non-null  int64  \n",
      " 1   constructorId       12445 non-null  int64  \n",
      " 2   constructor_points  12445 non-null  float64\n",
      "dtypes: float64(1), int64(2)\n",
      "memory usage: 291.8 KB\n"
     ]
    }
   ],
   "source": [
    "# Load constructor results data\n",
    "\n",
    "constructor_results = pd.read_csv(\"constructor_results.csv\", usecols = ['raceId', 'constructorId', 'points'])\n",
    "constructor_results.rename(columns = {'points' : 'constructor_points'}, inplace = True)\n",
    "constructor_results.info()"
   ]
  },
  {
   "cell_type": "code",
   "execution_count": 16,
   "id": "8b751afb-09a4-4c11-abf1-374b6b5eeebf",
   "metadata": {
    "tags": []
   },
   "outputs": [
    {
     "name": "stdout",
     "output_type": "stream",
     "text": [
      "<class 'pandas.core.frame.DataFrame'>\n",
      "RangeIndex: 212 entries, 0 to 211\n",
      "Data columns (total 2 columns):\n",
      " #   Column            Non-Null Count  Dtype \n",
      "---  ------            --------------  ----- \n",
      " 0   constructorId     212 non-null    int64 \n",
      " 1   constructor_name  212 non-null    object\n",
      "dtypes: int64(1), object(1)\n",
      "memory usage: 3.4+ KB\n"
     ]
    }
   ],
   "source": [
    "# Load constructors name data\n",
    "\n",
    "constructor_name = pd.read_csv(\"constructors.csv\", usecols = ['constructorId', 'name'])\n",
    "constructor_name.rename(columns = {'name' : 'constructor_name'}, inplace = True)\n",
    "constructor_name.info()"
   ]
  },
  {
   "cell_type": "markdown",
   "id": "49bc7a33-9c7e-4796-8d7b-bffafbab4e64",
   "metadata": {},
   "source": [
    "### Part 2: Merges & Assesment"
   ]
  },
  {
   "cell_type": "code",
   "execution_count": 18,
   "id": "a0a54857-5808-4748-8a7e-5fd18f447cb9",
   "metadata": {
    "tags": []
   },
   "outputs": [
    {
     "data": {
      "text/html": [
       "<div>\n",
       "<style scoped>\n",
       "    .dataframe tbody tr th:only-of-type {\n",
       "        vertical-align: middle;\n",
       "    }\n",
       "\n",
       "    .dataframe tbody tr th {\n",
       "        vertical-align: top;\n",
       "    }\n",
       "\n",
       "    .dataframe thead th {\n",
       "        text-align: right;\n",
       "    }\n",
       "</style>\n",
       "<table border=\"1\" class=\"dataframe\">\n",
       "  <thead>\n",
       "    <tr style=\"text-align: right;\">\n",
       "      <th></th>\n",
       "      <th>raceId</th>\n",
       "      <th>year</th>\n",
       "      <th>circuitId</th>\n",
       "      <th>race_name</th>\n",
       "      <th>driverId</th>\n",
       "      <th>constructorId</th>\n",
       "      <th>race_points</th>\n",
       "      <th>race_fastestLapTime</th>\n",
       "      <th>race_fastestLapSpeed</th>\n",
       "    </tr>\n",
       "  </thead>\n",
       "  <tbody>\n",
       "    <tr>\n",
       "      <th>0</th>\n",
       "      <td>948</td>\n",
       "      <td>2016</td>\n",
       "      <td>1</td>\n",
       "      <td>Australian Grand Prix</td>\n",
       "      <td>3.0</td>\n",
       "      <td>131.0</td>\n",
       "      <td>25.0</td>\n",
       "      <td>1:30.557</td>\n",
       "      <td>210.815</td>\n",
       "    </tr>\n",
       "    <tr>\n",
       "      <th>1</th>\n",
       "      <td>948</td>\n",
       "      <td>2016</td>\n",
       "      <td>1</td>\n",
       "      <td>Australian Grand Prix</td>\n",
       "      <td>1.0</td>\n",
       "      <td>131.0</td>\n",
       "      <td>18.0</td>\n",
       "      <td>1:30.646</td>\n",
       "      <td>210.608</td>\n",
       "    </tr>\n",
       "    <tr>\n",
       "      <th>2</th>\n",
       "      <td>948</td>\n",
       "      <td>2016</td>\n",
       "      <td>1</td>\n",
       "      <td>Australian Grand Prix</td>\n",
       "      <td>20.0</td>\n",
       "      <td>6.0</td>\n",
       "      <td>15.0</td>\n",
       "      <td>1:29.951</td>\n",
       "      <td>212.235</td>\n",
       "    </tr>\n",
       "    <tr>\n",
       "      <th>3</th>\n",
       "      <td>948</td>\n",
       "      <td>2016</td>\n",
       "      <td>1</td>\n",
       "      <td>Australian Grand Prix</td>\n",
       "      <td>817.0</td>\n",
       "      <td>9.0</td>\n",
       "      <td>12.0</td>\n",
       "      <td>1:28.997</td>\n",
       "      <td>214.510</td>\n",
       "    </tr>\n",
       "    <tr>\n",
       "      <th>4</th>\n",
       "      <td>948</td>\n",
       "      <td>2016</td>\n",
       "      <td>1</td>\n",
       "      <td>Australian Grand Prix</td>\n",
       "      <td>13.0</td>\n",
       "      <td>3.0</td>\n",
       "      <td>10.0</td>\n",
       "      <td>1:32.288</td>\n",
       "      <td>206.861</td>\n",
       "    </tr>\n",
       "  </tbody>\n",
       "</table>\n",
       "</div>"
      ],
      "text/plain": [
       "   raceId  year  circuitId              race_name  driverId  constructorId  \\\n",
       "0     948  2016          1  Australian Grand Prix       3.0          131.0   \n",
       "1     948  2016          1  Australian Grand Prix       1.0          131.0   \n",
       "2     948  2016          1  Australian Grand Prix      20.0            6.0   \n",
       "3     948  2016          1  Australian Grand Prix     817.0            9.0   \n",
       "4     948  2016          1  Australian Grand Prix      13.0            3.0   \n",
       "\n",
       "   race_points race_fastestLapTime race_fastestLapSpeed  \n",
       "0         25.0            1:30.557              210.815  \n",
       "1         18.0            1:30.646              210.608  \n",
       "2         15.0            1:29.951              212.235  \n",
       "3         12.0            1:28.997              214.510  \n",
       "4         10.0            1:32.288              206.861  "
      ]
     },
     "execution_count": 18,
     "metadata": {},
     "output_type": "execute_result"
    }
   ],
   "source": [
    "# Merge 1: Races to Results\n",
    "\n",
    "df = pd.merge(races,results,on='raceId',how='left')\n",
    "df.head()"
   ]
  },
  {
   "cell_type": "code",
   "execution_count": 19,
   "id": "ad3809eb-e6b5-42a5-89fb-e5514f60d48b",
   "metadata": {
    "tags": []
   },
   "outputs": [
    {
     "data": {
      "text/plain": [
       "[2016, 2017, 2018, 2019, 2020, 2021, 2022, 2023, 2024]"
      ]
     },
     "execution_count": 19,
     "metadata": {},
     "output_type": "execute_result"
    }
   ],
   "source": [
    "# Double checking that we only have 2018 to 2024\n",
    "\n",
    "sorted(df['year'].unique())"
   ]
  },
  {
   "cell_type": "code",
   "execution_count": 20,
   "id": "a183dfe4-b3c0-4f19-b894-e489ca555def",
   "metadata": {
    "tags": []
   },
   "outputs": [
    {
     "data": {
      "text/html": [
       "<div>\n",
       "<style scoped>\n",
       "    .dataframe tbody tr th:only-of-type {\n",
       "        vertical-align: middle;\n",
       "    }\n",
       "\n",
       "    .dataframe tbody tr th {\n",
       "        vertical-align: top;\n",
       "    }\n",
       "\n",
       "    .dataframe thead th {\n",
       "        text-align: right;\n",
       "    }\n",
       "</style>\n",
       "<table border=\"1\" class=\"dataframe\">\n",
       "  <thead>\n",
       "    <tr style=\"text-align: right;\">\n",
       "      <th></th>\n",
       "      <th>raceId</th>\n",
       "      <th>year</th>\n",
       "      <th>circuitId</th>\n",
       "      <th>race_name</th>\n",
       "      <th>driverId</th>\n",
       "      <th>constructorId</th>\n",
       "      <th>race_points</th>\n",
       "      <th>race_fastestLapTime</th>\n",
       "      <th>race_fastestLapSpeed</th>\n",
       "      <th>drivers_forename</th>\n",
       "      <th>drivers_surname</th>\n",
       "      <th>dob</th>\n",
       "    </tr>\n",
       "  </thead>\n",
       "  <tbody>\n",
       "    <tr>\n",
       "      <th>0</th>\n",
       "      <td>948</td>\n",
       "      <td>2016</td>\n",
       "      <td>1</td>\n",
       "      <td>Australian Grand Prix</td>\n",
       "      <td>3.0</td>\n",
       "      <td>131.0</td>\n",
       "      <td>25.0</td>\n",
       "      <td>1:30.557</td>\n",
       "      <td>210.815</td>\n",
       "      <td>Nico</td>\n",
       "      <td>Rosberg</td>\n",
       "      <td>1985-06-27</td>\n",
       "    </tr>\n",
       "    <tr>\n",
       "      <th>1</th>\n",
       "      <td>948</td>\n",
       "      <td>2016</td>\n",
       "      <td>1</td>\n",
       "      <td>Australian Grand Prix</td>\n",
       "      <td>1.0</td>\n",
       "      <td>131.0</td>\n",
       "      <td>18.0</td>\n",
       "      <td>1:30.646</td>\n",
       "      <td>210.608</td>\n",
       "      <td>Lewis</td>\n",
       "      <td>Hamilton</td>\n",
       "      <td>1985-01-07</td>\n",
       "    </tr>\n",
       "    <tr>\n",
       "      <th>2</th>\n",
       "      <td>948</td>\n",
       "      <td>2016</td>\n",
       "      <td>1</td>\n",
       "      <td>Australian Grand Prix</td>\n",
       "      <td>20.0</td>\n",
       "      <td>6.0</td>\n",
       "      <td>15.0</td>\n",
       "      <td>1:29.951</td>\n",
       "      <td>212.235</td>\n",
       "      <td>Sebastian</td>\n",
       "      <td>Vettel</td>\n",
       "      <td>1987-07-03</td>\n",
       "    </tr>\n",
       "    <tr>\n",
       "      <th>3</th>\n",
       "      <td>948</td>\n",
       "      <td>2016</td>\n",
       "      <td>1</td>\n",
       "      <td>Australian Grand Prix</td>\n",
       "      <td>817.0</td>\n",
       "      <td>9.0</td>\n",
       "      <td>12.0</td>\n",
       "      <td>1:28.997</td>\n",
       "      <td>214.510</td>\n",
       "      <td>Daniel</td>\n",
       "      <td>Ricciardo</td>\n",
       "      <td>1989-07-01</td>\n",
       "    </tr>\n",
       "    <tr>\n",
       "      <th>4</th>\n",
       "      <td>948</td>\n",
       "      <td>2016</td>\n",
       "      <td>1</td>\n",
       "      <td>Australian Grand Prix</td>\n",
       "      <td>13.0</td>\n",
       "      <td>3.0</td>\n",
       "      <td>10.0</td>\n",
       "      <td>1:32.288</td>\n",
       "      <td>206.861</td>\n",
       "      <td>Felipe</td>\n",
       "      <td>Massa</td>\n",
       "      <td>1981-04-25</td>\n",
       "    </tr>\n",
       "  </tbody>\n",
       "</table>\n",
       "</div>"
      ],
      "text/plain": [
       "   raceId  year  circuitId              race_name  driverId  constructorId  \\\n",
       "0     948  2016          1  Australian Grand Prix       3.0          131.0   \n",
       "1     948  2016          1  Australian Grand Prix       1.0          131.0   \n",
       "2     948  2016          1  Australian Grand Prix      20.0            6.0   \n",
       "3     948  2016          1  Australian Grand Prix     817.0            9.0   \n",
       "4     948  2016          1  Australian Grand Prix      13.0            3.0   \n",
       "\n",
       "   race_points race_fastestLapTime race_fastestLapSpeed drivers_forename  \\\n",
       "0         25.0            1:30.557              210.815             Nico   \n",
       "1         18.0            1:30.646              210.608            Lewis   \n",
       "2         15.0            1:29.951              212.235        Sebastian   \n",
       "3         12.0            1:28.997              214.510           Daniel   \n",
       "4         10.0            1:32.288              206.861           Felipe   \n",
       "\n",
       "  drivers_surname         dob  \n",
       "0         Rosberg  1985-06-27  \n",
       "1        Hamilton  1985-01-07  \n",
       "2          Vettel  1987-07-03  \n",
       "3       Ricciardo  1989-07-01  \n",
       "4           Massa  1981-04-25  "
      ]
     },
     "execution_count": 20,
     "metadata": {},
     "output_type": "execute_result"
    }
   ],
   "source": [
    "# Merge 2: df to Drivers\n",
    "\n",
    "df1 = pd.merge(df,drivers,on='driverId',how='left')\n",
    "df1.head()"
   ]
  },
  {
   "cell_type": "code",
   "execution_count": 21,
   "id": "ee3cf2af-d152-4d3d-b5f3-94e83e23c4a0",
   "metadata": {
    "tags": []
   },
   "outputs": [
    {
     "name": "stdout",
     "output_type": "stream",
     "text": [
      "<class 'pandas.core.frame.DataFrame'>\n",
      "Int64Index: 3499 entries, 0 to 3498\n",
      "Data columns (total 12 columns):\n",
      " #   Column                Non-Null Count  Dtype  \n",
      "---  ------                --------------  -----  \n",
      " 0   raceId                3499 non-null   int64  \n",
      " 1   year                  3499 non-null   int64  \n",
      " 2   circuitId             3499 non-null   int64  \n",
      " 3   race_name             3499 non-null   object \n",
      " 4   driverId              3481 non-null   float64\n",
      " 5   constructorId         3481 non-null   float64\n",
      " 6   race_points           3481 non-null   float64\n",
      " 7   race_fastestLapTime   3481 non-null   object \n",
      " 8   race_fastestLapSpeed  3481 non-null   object \n",
      " 9   drivers_forename      3481 non-null   object \n",
      " 10  drivers_surname       3481 non-null   object \n",
      " 11  dob                   3481 non-null   object \n",
      "dtypes: float64(3), int64(3), object(6)\n",
      "memory usage: 355.4+ KB\n"
     ]
    }
   ],
   "source": [
    "# Getting data on the current dataset\n",
    "\n",
    "df1.info()"
   ]
  },
  {
   "cell_type": "code",
   "execution_count": 22,
   "id": "97656760-1318-482c-b9d4-b618c0c73990",
   "metadata": {
    "tags": []
   },
   "outputs": [
    {
     "data": {
      "text/html": [
       "<div>\n",
       "<style scoped>\n",
       "    .dataframe tbody tr th:only-of-type {\n",
       "        vertical-align: middle;\n",
       "    }\n",
       "\n",
       "    .dataframe tbody tr th {\n",
       "        vertical-align: top;\n",
       "    }\n",
       "\n",
       "    .dataframe thead th {\n",
       "        text-align: right;\n",
       "    }\n",
       "</style>\n",
       "<table border=\"1\" class=\"dataframe\">\n",
       "  <thead>\n",
       "    <tr style=\"text-align: right;\">\n",
       "      <th></th>\n",
       "      <th>raceId</th>\n",
       "      <th>year</th>\n",
       "      <th>circuitId</th>\n",
       "      <th>race_name</th>\n",
       "      <th>driverId</th>\n",
       "      <th>constructorId</th>\n",
       "      <th>race_points</th>\n",
       "      <th>race_fastestLapTime</th>\n",
       "      <th>race_fastestLapSpeed</th>\n",
       "      <th>drivers_forename</th>\n",
       "      <th>drivers_surname</th>\n",
       "      <th>dob</th>\n",
       "    </tr>\n",
       "  </thead>\n",
       "  <tbody>\n",
       "    <tr>\n",
       "      <th>1</th>\n",
       "      <td>948</td>\n",
       "      <td>2016</td>\n",
       "      <td>1</td>\n",
       "      <td>Australian Grand Prix</td>\n",
       "      <td>1.0</td>\n",
       "      <td>131.0</td>\n",
       "      <td>18.0</td>\n",
       "      <td>1:30.646</td>\n",
       "      <td>210.608</td>\n",
       "      <td>Lewis</td>\n",
       "      <td>Hamilton</td>\n",
       "      <td>1985-01-07</td>\n",
       "    </tr>\n",
       "    <tr>\n",
       "      <th>24</th>\n",
       "      <td>949</td>\n",
       "      <td>2016</td>\n",
       "      <td>3</td>\n",
       "      <td>Bahrain Grand Prix</td>\n",
       "      <td>1.0</td>\n",
       "      <td>131.0</td>\n",
       "      <td>15.0</td>\n",
       "      <td>1:34.677</td>\n",
       "      <td>205.785</td>\n",
       "      <td>Lewis</td>\n",
       "      <td>Hamilton</td>\n",
       "      <td>1985-01-07</td>\n",
       "    </tr>\n",
       "    <tr>\n",
       "      <th>50</th>\n",
       "      <td>950</td>\n",
       "      <td>2016</td>\n",
       "      <td>17</td>\n",
       "      <td>Chinese Grand Prix</td>\n",
       "      <td>1.0</td>\n",
       "      <td>131.0</td>\n",
       "      <td>6.0</td>\n",
       "      <td>1:40.662</td>\n",
       "      <td>194.945</td>\n",
       "      <td>Lewis</td>\n",
       "      <td>Hamilton</td>\n",
       "      <td>1985-01-07</td>\n",
       "    </tr>\n",
       "    <tr>\n",
       "      <th>67</th>\n",
       "      <td>951</td>\n",
       "      <td>2016</td>\n",
       "      <td>71</td>\n",
       "      <td>Russian Grand Prix</td>\n",
       "      <td>1.0</td>\n",
       "      <td>131.0</td>\n",
       "      <td>18.0</td>\n",
       "      <td>1:40.266</td>\n",
       "      <td>209.969</td>\n",
       "      <td>Lewis</td>\n",
       "      <td>Hamilton</td>\n",
       "      <td>1985-01-07</td>\n",
       "    </tr>\n",
       "    <tr>\n",
       "      <th>108</th>\n",
       "      <td>952</td>\n",
       "      <td>2016</td>\n",
       "      <td>4</td>\n",
       "      <td>Spanish Grand Prix</td>\n",
       "      <td>1.0</td>\n",
       "      <td>131.0</td>\n",
       "      <td>0.0</td>\n",
       "      <td>\\N</td>\n",
       "      <td>\\N</td>\n",
       "      <td>Lewis</td>\n",
       "      <td>Hamilton</td>\n",
       "      <td>1985-01-07</td>\n",
       "    </tr>\n",
       "  </tbody>\n",
       "</table>\n",
       "</div>"
      ],
      "text/plain": [
       "     raceId  year  circuitId              race_name  driverId  constructorId  \\\n",
       "1       948  2016          1  Australian Grand Prix       1.0          131.0   \n",
       "24      949  2016          3     Bahrain Grand Prix       1.0          131.0   \n",
       "50      950  2016         17     Chinese Grand Prix       1.0          131.0   \n",
       "67      951  2016         71     Russian Grand Prix       1.0          131.0   \n",
       "108     952  2016          4     Spanish Grand Prix       1.0          131.0   \n",
       "\n",
       "     race_points race_fastestLapTime race_fastestLapSpeed drivers_forename  \\\n",
       "1           18.0            1:30.646              210.608            Lewis   \n",
       "24          15.0            1:34.677              205.785            Lewis   \n",
       "50           6.0            1:40.662              194.945            Lewis   \n",
       "67          18.0            1:40.266              209.969            Lewis   \n",
       "108          0.0                  \\N                   \\N            Lewis   \n",
       "\n",
       "    drivers_surname         dob  \n",
       "1          Hamilton  1985-01-07  \n",
       "24         Hamilton  1985-01-07  \n",
       "50         Hamilton  1985-01-07  \n",
       "67         Hamilton  1985-01-07  \n",
       "108        Hamilton  1985-01-07  "
      ]
     },
     "execution_count": 22,
     "metadata": {},
     "output_type": "execute_result"
    }
   ],
   "source": [
    "## Testing if the merge was successful\n",
    "# I am doing a test at this point because the first 3 tables are the most essential ones. If the merge is off at this point, everything else will be wrong. \n",
    "\n",
    "# I will use Lewis Hamilton for the test. Lewis Hamilton was world champion in 2018, meaning that he most likely didn't miss a single race in 2018.\n",
    "# There were a total of 21 races in 2018. if the merge was correct, we should have 21 records for Lewis Hmailton in 21\n",
    "# If you're wondering how I know the number of races, check this link: https://www.formula1.com/en/racing/2018.html\n",
    "# You'll see that there were 21 \"rounds\" (races) in 2018\n",
    "\n",
    "# Creating a variable that stores the records were the surname is Hamilton\n",
    "\n",
    "hamilton = df1.loc[df1['drivers_surname'] == \"Hamilton\"]\n",
    "hamilton.head()"
   ]
  },
  {
   "cell_type": "code",
   "execution_count": 23,
   "id": "08c0936a-5486-4540-aee6-5125fc9c79a4",
   "metadata": {
    "tags": []
   },
   "outputs": [
    {
     "data": {
      "text/plain": [
       "raceId                  21\n",
       "year                    21\n",
       "circuitId               21\n",
       "race_name               21\n",
       "driverId                21\n",
       "constructorId           21\n",
       "race_points             21\n",
       "race_fastestLapTime     21\n",
       "race_fastestLapSpeed    21\n",
       "drivers_forename        21\n",
       "drivers_surname         21\n",
       "dob                     21\n",
       "dtype: int64"
      ]
     },
     "execution_count": 23,
     "metadata": {},
     "output_type": "execute_result"
    }
   ],
   "source": [
    "# Counting the amount of records were the surname is Hamilton in 2018\n",
    "\n",
    "hamilton.loc[hamilton['year'] == 2018].count()"
   ]
  },
  {
   "cell_type": "markdown",
   "id": "a96f9fec-563a-46ef-86b1-81cd088e6a00",
   "metadata": {},
   "source": [
    "\n",
    "    The merge was successful. We have 21 records for Hamilton in 2018.\n",
    "\n",
    "**What does this mean for our dataset?**\n",
    "\n",
    "The granularity of our dataset is: One record per driver, per race. This means that if there are a total of 21 races in 2018 and Lewis Hamilton competed in the 21 races, he should have 21 records for 2018. "
   ]
  },
  {
   "cell_type": "code",
   "execution_count": 25,
   "id": "d5003ecf-74b0-412e-9eb1-9ecc0a3a3b89",
   "metadata": {
    "tags": []
   },
   "outputs": [
    {
     "data": {
      "text/html": [
       "<div>\n",
       "<style scoped>\n",
       "    .dataframe tbody tr th:only-of-type {\n",
       "        vertical-align: middle;\n",
       "    }\n",
       "\n",
       "    .dataframe tbody tr th {\n",
       "        vertical-align: top;\n",
       "    }\n",
       "\n",
       "    .dataframe thead th {\n",
       "        text-align: right;\n",
       "    }\n",
       "</style>\n",
       "<table border=\"1\" class=\"dataframe\">\n",
       "  <thead>\n",
       "    <tr style=\"text-align: right;\">\n",
       "      <th></th>\n",
       "      <th>raceId</th>\n",
       "      <th>year</th>\n",
       "      <th>circuitId</th>\n",
       "      <th>race_name</th>\n",
       "      <th>driverId</th>\n",
       "      <th>constructorId</th>\n",
       "      <th>race_points</th>\n",
       "      <th>race_fastestLapTime</th>\n",
       "      <th>race_fastestLapSpeed</th>\n",
       "      <th>drivers_forename</th>\n",
       "      <th>drivers_surname</th>\n",
       "      <th>dob</th>\n",
       "      <th>qualifyId</th>\n",
       "      <th>q1</th>\n",
       "      <th>q2</th>\n",
       "      <th>q3</th>\n",
       "    </tr>\n",
       "  </thead>\n",
       "  <tbody>\n",
       "    <tr>\n",
       "      <th>0</th>\n",
       "      <td>948</td>\n",
       "      <td>2016</td>\n",
       "      <td>1</td>\n",
       "      <td>Australian Grand Prix</td>\n",
       "      <td>3.0</td>\n",
       "      <td>131.0</td>\n",
       "      <td>25.0</td>\n",
       "      <td>1:30.557</td>\n",
       "      <td>210.815</td>\n",
       "      <td>Nico</td>\n",
       "      <td>Rosberg</td>\n",
       "      <td>1985-06-27</td>\n",
       "      <td>6684.0</td>\n",
       "      <td>1:26.934</td>\n",
       "      <td>1:24.796</td>\n",
       "      <td>1:24.197</td>\n",
       "    </tr>\n",
       "    <tr>\n",
       "      <th>1</th>\n",
       "      <td>948</td>\n",
       "      <td>2016</td>\n",
       "      <td>1</td>\n",
       "      <td>Australian Grand Prix</td>\n",
       "      <td>1.0</td>\n",
       "      <td>131.0</td>\n",
       "      <td>18.0</td>\n",
       "      <td>1:30.646</td>\n",
       "      <td>210.608</td>\n",
       "      <td>Lewis</td>\n",
       "      <td>Hamilton</td>\n",
       "      <td>1985-01-07</td>\n",
       "      <td>6683.0</td>\n",
       "      <td>1:25.351</td>\n",
       "      <td>1:24.605</td>\n",
       "      <td>1:23.837</td>\n",
       "    </tr>\n",
       "    <tr>\n",
       "      <th>2</th>\n",
       "      <td>948</td>\n",
       "      <td>2016</td>\n",
       "      <td>1</td>\n",
       "      <td>Australian Grand Prix</td>\n",
       "      <td>20.0</td>\n",
       "      <td>6.0</td>\n",
       "      <td>15.0</td>\n",
       "      <td>1:29.951</td>\n",
       "      <td>212.235</td>\n",
       "      <td>Sebastian</td>\n",
       "      <td>Vettel</td>\n",
       "      <td>1987-07-03</td>\n",
       "      <td>6685.0</td>\n",
       "      <td>1:26.945</td>\n",
       "      <td>1:25.257</td>\n",
       "      <td>1:24.675</td>\n",
       "    </tr>\n",
       "    <tr>\n",
       "      <th>3</th>\n",
       "      <td>948</td>\n",
       "      <td>2016</td>\n",
       "      <td>1</td>\n",
       "      <td>Australian Grand Prix</td>\n",
       "      <td>817.0</td>\n",
       "      <td>9.0</td>\n",
       "      <td>12.0</td>\n",
       "      <td>1:28.997</td>\n",
       "      <td>214.510</td>\n",
       "      <td>Daniel</td>\n",
       "      <td>Ricciardo</td>\n",
       "      <td>1989-07-01</td>\n",
       "      <td>6690.0</td>\n",
       "      <td>1:26.945</td>\n",
       "      <td>1:25.599</td>\n",
       "      <td>1:25.589</td>\n",
       "    </tr>\n",
       "    <tr>\n",
       "      <th>4</th>\n",
       "      <td>948</td>\n",
       "      <td>2016</td>\n",
       "      <td>1</td>\n",
       "      <td>Australian Grand Prix</td>\n",
       "      <td>13.0</td>\n",
       "      <td>3.0</td>\n",
       "      <td>10.0</td>\n",
       "      <td>1:32.288</td>\n",
       "      <td>206.861</td>\n",
       "      <td>Felipe</td>\n",
       "      <td>Massa</td>\n",
       "      <td>1981-04-25</td>\n",
       "      <td>6688.0</td>\n",
       "      <td>1:25.918</td>\n",
       "      <td>1:25.644</td>\n",
       "      <td>1:25.458</td>\n",
       "    </tr>\n",
       "  </tbody>\n",
       "</table>\n",
       "</div>"
      ],
      "text/plain": [
       "   raceId  year  circuitId              race_name  driverId  constructorId  \\\n",
       "0     948  2016          1  Australian Grand Prix       3.0          131.0   \n",
       "1     948  2016          1  Australian Grand Prix       1.0          131.0   \n",
       "2     948  2016          1  Australian Grand Prix      20.0            6.0   \n",
       "3     948  2016          1  Australian Grand Prix     817.0            9.0   \n",
       "4     948  2016          1  Australian Grand Prix      13.0            3.0   \n",
       "\n",
       "   race_points race_fastestLapTime race_fastestLapSpeed drivers_forename  \\\n",
       "0         25.0            1:30.557              210.815             Nico   \n",
       "1         18.0            1:30.646              210.608            Lewis   \n",
       "2         15.0            1:29.951              212.235        Sebastian   \n",
       "3         12.0            1:28.997              214.510           Daniel   \n",
       "4         10.0            1:32.288              206.861           Felipe   \n",
       "\n",
       "  drivers_surname         dob  qualifyId        q1        q2        q3  \n",
       "0         Rosberg  1985-06-27     6684.0  1:26.934  1:24.796  1:24.197  \n",
       "1        Hamilton  1985-01-07     6683.0  1:25.351  1:24.605  1:23.837  \n",
       "2          Vettel  1987-07-03     6685.0  1:26.945  1:25.257  1:24.675  \n",
       "3       Ricciardo  1989-07-01     6690.0  1:26.945  1:25.599  1:25.589  \n",
       "4           Massa  1981-04-25     6688.0  1:25.918  1:25.644  1:25.458  "
      ]
     },
     "execution_count": 25,
     "metadata": {},
     "output_type": "execute_result"
    }
   ],
   "source": [
    "# Merge 3: Previous df and quali\n",
    "\n",
    "df2 = pd.merge(df1, quali, on = ['raceId', 'driverId', 'constructorId'], how='left')\n",
    "df2.head()"
   ]
  },
  {
   "cell_type": "code",
   "execution_count": 26,
   "id": "3de52126-7616-4848-87de-fed0ae11a2a1",
   "metadata": {
    "tags": []
   },
   "outputs": [
    {
     "name": "stdout",
     "output_type": "stream",
     "text": [
      "<class 'pandas.core.frame.DataFrame'>\n",
      "Int64Index: 3499 entries, 0 to 3498\n",
      "Data columns (total 16 columns):\n",
      " #   Column                Non-Null Count  Dtype  \n",
      "---  ------                --------------  -----  \n",
      " 0   raceId                3499 non-null   int64  \n",
      " 1   year                  3499 non-null   int64  \n",
      " 2   circuitId             3499 non-null   int64  \n",
      " 3   race_name             3499 non-null   object \n",
      " 4   driverId              3481 non-null   float64\n",
      " 5   constructorId         3481 non-null   float64\n",
      " 6   race_points           3481 non-null   float64\n",
      " 7   race_fastestLapTime   3481 non-null   object \n",
      " 8   race_fastestLapSpeed  3481 non-null   object \n",
      " 9   drivers_forename      3481 non-null   object \n",
      " 10  drivers_surname       3481 non-null   object \n",
      " 11  dob                   3481 non-null   object \n",
      " 12  qualifyId             3471 non-null   float64\n",
      " 13  q1                    3471 non-null   object \n",
      " 14  q2                    3462 non-null   object \n",
      " 15  q3                    3453 non-null   object \n",
      "dtypes: float64(4), int64(3), object(9)\n",
      "memory usage: 464.7+ KB\n"
     ]
    }
   ],
   "source": [
    "df2.info()"
   ]
  },
  {
   "cell_type": "markdown",
   "id": "877b0db0-faa8-46cc-9631-a8ea3f24f675",
   "metadata": {},
   "source": [
    "    We have nulls in q1, q2, and q3. This could be due to data entry mistake, or that the drivers didn't finish the qualifying session. This happens if their car has some type of malfunctioning or they crash. I don't like having nulls in these columns but it actually makes sense to have nulls for quali - if we didn't have nulls then I would know for sure that the data is wrong. "
   ]
  },
  {
   "cell_type": "code",
   "execution_count": 28,
   "id": "cac55274-8ccf-43d8-b9d3-6c397aad7f0c",
   "metadata": {
    "tags": []
   },
   "outputs": [
    {
     "data": {
      "text/html": [
       "<div>\n",
       "<style scoped>\n",
       "    .dataframe tbody tr th:only-of-type {\n",
       "        vertical-align: middle;\n",
       "    }\n",
       "\n",
       "    .dataframe tbody tr th {\n",
       "        vertical-align: top;\n",
       "    }\n",
       "\n",
       "    .dataframe thead th {\n",
       "        text-align: right;\n",
       "    }\n",
       "</style>\n",
       "<table border=\"1\" class=\"dataframe\">\n",
       "  <thead>\n",
       "    <tr style=\"text-align: right;\">\n",
       "      <th></th>\n",
       "      <th>raceId</th>\n",
       "      <th>year</th>\n",
       "      <th>circuitId</th>\n",
       "      <th>race_name</th>\n",
       "      <th>driverId</th>\n",
       "      <th>constructorId</th>\n",
       "      <th>race_points</th>\n",
       "      <th>race_fastestLapTime</th>\n",
       "      <th>race_fastestLapSpeed</th>\n",
       "      <th>drivers_forename</th>\n",
       "      <th>drivers_surname</th>\n",
       "      <th>dob</th>\n",
       "      <th>qualifyId</th>\n",
       "      <th>q1</th>\n",
       "      <th>q2</th>\n",
       "      <th>q3</th>\n",
       "      <th>sprint_points</th>\n",
       "      <th>sprint_fastestLapTime</th>\n",
       "    </tr>\n",
       "  </thead>\n",
       "  <tbody>\n",
       "    <tr>\n",
       "      <th>0</th>\n",
       "      <td>948</td>\n",
       "      <td>2016</td>\n",
       "      <td>1</td>\n",
       "      <td>Australian Grand Prix</td>\n",
       "      <td>3.0</td>\n",
       "      <td>131.0</td>\n",
       "      <td>25.0</td>\n",
       "      <td>1:30.557</td>\n",
       "      <td>210.815</td>\n",
       "      <td>Nico</td>\n",
       "      <td>Rosberg</td>\n",
       "      <td>1985-06-27</td>\n",
       "      <td>6684.0</td>\n",
       "      <td>1:26.934</td>\n",
       "      <td>1:24.796</td>\n",
       "      <td>1:24.197</td>\n",
       "      <td>NaN</td>\n",
       "      <td>NaN</td>\n",
       "    </tr>\n",
       "    <tr>\n",
       "      <th>1</th>\n",
       "      <td>948</td>\n",
       "      <td>2016</td>\n",
       "      <td>1</td>\n",
       "      <td>Australian Grand Prix</td>\n",
       "      <td>1.0</td>\n",
       "      <td>131.0</td>\n",
       "      <td>18.0</td>\n",
       "      <td>1:30.646</td>\n",
       "      <td>210.608</td>\n",
       "      <td>Lewis</td>\n",
       "      <td>Hamilton</td>\n",
       "      <td>1985-01-07</td>\n",
       "      <td>6683.0</td>\n",
       "      <td>1:25.351</td>\n",
       "      <td>1:24.605</td>\n",
       "      <td>1:23.837</td>\n",
       "      <td>NaN</td>\n",
       "      <td>NaN</td>\n",
       "    </tr>\n",
       "    <tr>\n",
       "      <th>2</th>\n",
       "      <td>948</td>\n",
       "      <td>2016</td>\n",
       "      <td>1</td>\n",
       "      <td>Australian Grand Prix</td>\n",
       "      <td>20.0</td>\n",
       "      <td>6.0</td>\n",
       "      <td>15.0</td>\n",
       "      <td>1:29.951</td>\n",
       "      <td>212.235</td>\n",
       "      <td>Sebastian</td>\n",
       "      <td>Vettel</td>\n",
       "      <td>1987-07-03</td>\n",
       "      <td>6685.0</td>\n",
       "      <td>1:26.945</td>\n",
       "      <td>1:25.257</td>\n",
       "      <td>1:24.675</td>\n",
       "      <td>NaN</td>\n",
       "      <td>NaN</td>\n",
       "    </tr>\n",
       "    <tr>\n",
       "      <th>3</th>\n",
       "      <td>948</td>\n",
       "      <td>2016</td>\n",
       "      <td>1</td>\n",
       "      <td>Australian Grand Prix</td>\n",
       "      <td>817.0</td>\n",
       "      <td>9.0</td>\n",
       "      <td>12.0</td>\n",
       "      <td>1:28.997</td>\n",
       "      <td>214.510</td>\n",
       "      <td>Daniel</td>\n",
       "      <td>Ricciardo</td>\n",
       "      <td>1989-07-01</td>\n",
       "      <td>6690.0</td>\n",
       "      <td>1:26.945</td>\n",
       "      <td>1:25.599</td>\n",
       "      <td>1:25.589</td>\n",
       "      <td>NaN</td>\n",
       "      <td>NaN</td>\n",
       "    </tr>\n",
       "    <tr>\n",
       "      <th>4</th>\n",
       "      <td>948</td>\n",
       "      <td>2016</td>\n",
       "      <td>1</td>\n",
       "      <td>Australian Grand Prix</td>\n",
       "      <td>13.0</td>\n",
       "      <td>3.0</td>\n",
       "      <td>10.0</td>\n",
       "      <td>1:32.288</td>\n",
       "      <td>206.861</td>\n",
       "      <td>Felipe</td>\n",
       "      <td>Massa</td>\n",
       "      <td>1981-04-25</td>\n",
       "      <td>6688.0</td>\n",
       "      <td>1:25.918</td>\n",
       "      <td>1:25.644</td>\n",
       "      <td>1:25.458</td>\n",
       "      <td>NaN</td>\n",
       "      <td>NaN</td>\n",
       "    </tr>\n",
       "  </tbody>\n",
       "</table>\n",
       "</div>"
      ],
      "text/plain": [
       "   raceId  year  circuitId              race_name  driverId  constructorId  \\\n",
       "0     948  2016          1  Australian Grand Prix       3.0          131.0   \n",
       "1     948  2016          1  Australian Grand Prix       1.0          131.0   \n",
       "2     948  2016          1  Australian Grand Prix      20.0            6.0   \n",
       "3     948  2016          1  Australian Grand Prix     817.0            9.0   \n",
       "4     948  2016          1  Australian Grand Prix      13.0            3.0   \n",
       "\n",
       "   race_points race_fastestLapTime race_fastestLapSpeed drivers_forename  \\\n",
       "0         25.0            1:30.557              210.815             Nico   \n",
       "1         18.0            1:30.646              210.608            Lewis   \n",
       "2         15.0            1:29.951              212.235        Sebastian   \n",
       "3         12.0            1:28.997              214.510           Daniel   \n",
       "4         10.0            1:32.288              206.861           Felipe   \n",
       "\n",
       "  drivers_surname         dob  qualifyId        q1        q2        q3  \\\n",
       "0         Rosberg  1985-06-27     6684.0  1:26.934  1:24.796  1:24.197   \n",
       "1        Hamilton  1985-01-07     6683.0  1:25.351  1:24.605  1:23.837   \n",
       "2          Vettel  1987-07-03     6685.0  1:26.945  1:25.257  1:24.675   \n",
       "3       Ricciardo  1989-07-01     6690.0  1:26.945  1:25.599  1:25.589   \n",
       "4           Massa  1981-04-25     6688.0  1:25.918  1:25.644  1:25.458   \n",
       "\n",
       "   sprint_points sprint_fastestLapTime  \n",
       "0            NaN                   NaN  \n",
       "1            NaN                   NaN  \n",
       "2            NaN                   NaN  \n",
       "3            NaN                   NaN  \n",
       "4            NaN                   NaN  "
      ]
     },
     "execution_count": 28,
     "metadata": {},
     "output_type": "execute_result"
    }
   ],
   "source": [
    "# Merge 4: previous df and sprint\n",
    "\n",
    "df3 = pd.merge(df2, sprint, on = ['raceId', 'driverId', 'constructorId'], how='left')\n",
    "df3.head()"
   ]
  },
  {
   "cell_type": "code",
   "execution_count": 29,
   "id": "c6fbc98a-38f5-4718-9bca-ee5e875373d3",
   "metadata": {
    "tags": []
   },
   "outputs": [
    {
     "name": "stdout",
     "output_type": "stream",
     "text": [
      "<class 'pandas.core.frame.DataFrame'>\n",
      "Int64Index: 3499 entries, 0 to 3498\n",
      "Data columns (total 18 columns):\n",
      " #   Column                 Non-Null Count  Dtype  \n",
      "---  ------                 --------------  -----  \n",
      " 0   raceId                 3499 non-null   int64  \n",
      " 1   year                   3499 non-null   int64  \n",
      " 2   circuitId              3499 non-null   int64  \n",
      " 3   race_name              3499 non-null   object \n",
      " 4   driverId               3481 non-null   float64\n",
      " 5   constructorId          3481 non-null   float64\n",
      " 6   race_points            3481 non-null   float64\n",
      " 7   race_fastestLapTime    3481 non-null   object \n",
      " 8   race_fastestLapSpeed   3481 non-null   object \n",
      " 9   drivers_forename       3481 non-null   object \n",
      " 10  drivers_surname        3481 non-null   object \n",
      " 11  dob                    3481 non-null   object \n",
      " 12  qualifyId              3471 non-null   float64\n",
      " 13  q1                     3471 non-null   object \n",
      " 14  q2                     3462 non-null   object \n",
      " 15  q3                     3453 non-null   object \n",
      " 16  sprint_points          280 non-null    float64\n",
      " 17  sprint_fastestLapTime  280 non-null    object \n",
      "dtypes: float64(5), int64(3), object(10)\n",
      "memory usage: 519.4+ KB\n"
     ]
    }
   ],
   "source": [
    "df3.info()"
   ]
  },
  {
   "cell_type": "code",
   "execution_count": 30,
   "id": "470b1a0c-73a9-446f-a630-86eefcc6dbe0",
   "metadata": {
    "tags": []
   },
   "outputs": [
    {
     "name": "stdout",
     "output_type": "stream",
     "text": [
      "raceId - 0.0%\n",
      "year - 0.0%\n",
      "circuitId - 0.0%\n",
      "race_name - 0.0%\n",
      "driverId - 0.005%\n",
      "constructorId - 0.005%\n",
      "race_points - 0.005%\n",
      "race_fastestLapTime - 0.005%\n",
      "race_fastestLapSpeed - 0.005%\n",
      "drivers_forename - 0.005%\n",
      "drivers_surname - 0.005%\n",
      "dob - 0.005%\n",
      "qualifyId - 0.008%\n",
      "q1 - 0.008%\n",
      "q2 - 0.011%\n",
      "q3 - 0.013%\n",
      "sprint_points - 0.92%\n",
      "sprint_fastestLapTime - 0.92%\n"
     ]
    }
   ],
   "source": [
    "for col in df3.columns:\n",
    "    pct_missing = round(np.mean(df3[col].isnull()), 3)\n",
    "    print('{} - {}%'.format(col, pct_missing))"
   ]
  },
  {
   "cell_type": "markdown",
   "id": "7f9b94c4-34b9-417b-a6c7-6a38215e4429",
   "metadata": {
    "tags": []
   },
   "source": [
    "    Almost all of the data for sprint is missing. This is because only a very few races have sprint sessions, so most of the records don't have values for sprint. Again, it looks horribe but it makes sense."
   ]
  },
  {
   "cell_type": "code",
   "execution_count": 32,
   "id": "4a45024e-1fcb-4241-b570-373613ad7fea",
   "metadata": {
    "tags": []
   },
   "outputs": [
    {
     "data": {
      "text/html": [
       "<div>\n",
       "<style scoped>\n",
       "    .dataframe tbody tr th:only-of-type {\n",
       "        vertical-align: middle;\n",
       "    }\n",
       "\n",
       "    .dataframe tbody tr th {\n",
       "        vertical-align: top;\n",
       "    }\n",
       "\n",
       "    .dataframe thead th {\n",
       "        text-align: right;\n",
       "    }\n",
       "</style>\n",
       "<table border=\"1\" class=\"dataframe\">\n",
       "  <thead>\n",
       "    <tr style=\"text-align: right;\">\n",
       "      <th></th>\n",
       "      <th>raceId</th>\n",
       "      <th>year</th>\n",
       "      <th>circuitId</th>\n",
       "      <th>race_name</th>\n",
       "      <th>driverId</th>\n",
       "      <th>constructorId</th>\n",
       "      <th>race_points</th>\n",
       "      <th>race_fastestLapTime</th>\n",
       "      <th>race_fastestLapSpeed</th>\n",
       "      <th>drivers_forename</th>\n",
       "      <th>drivers_surname</th>\n",
       "      <th>dob</th>\n",
       "      <th>qualifyId</th>\n",
       "      <th>q1</th>\n",
       "      <th>q2</th>\n",
       "      <th>q3</th>\n",
       "      <th>sprint_points</th>\n",
       "      <th>sprint_fastestLapTime</th>\n",
       "      <th>circuit_name</th>\n",
       "      <th>circuit_altitude</th>\n",
       "    </tr>\n",
       "  </thead>\n",
       "  <tbody>\n",
       "    <tr>\n",
       "      <th>0</th>\n",
       "      <td>948</td>\n",
       "      <td>2016</td>\n",
       "      <td>1</td>\n",
       "      <td>Australian Grand Prix</td>\n",
       "      <td>3.0</td>\n",
       "      <td>131.0</td>\n",
       "      <td>25.0</td>\n",
       "      <td>1:30.557</td>\n",
       "      <td>210.815</td>\n",
       "      <td>Nico</td>\n",
       "      <td>Rosberg</td>\n",
       "      <td>1985-06-27</td>\n",
       "      <td>6684.0</td>\n",
       "      <td>1:26.934</td>\n",
       "      <td>1:24.796</td>\n",
       "      <td>1:24.197</td>\n",
       "      <td>NaN</td>\n",
       "      <td>NaN</td>\n",
       "      <td>Albert Park Grand Prix Circuit</td>\n",
       "      <td>10</td>\n",
       "    </tr>\n",
       "    <tr>\n",
       "      <th>1</th>\n",
       "      <td>948</td>\n",
       "      <td>2016</td>\n",
       "      <td>1</td>\n",
       "      <td>Australian Grand Prix</td>\n",
       "      <td>1.0</td>\n",
       "      <td>131.0</td>\n",
       "      <td>18.0</td>\n",
       "      <td>1:30.646</td>\n",
       "      <td>210.608</td>\n",
       "      <td>Lewis</td>\n",
       "      <td>Hamilton</td>\n",
       "      <td>1985-01-07</td>\n",
       "      <td>6683.0</td>\n",
       "      <td>1:25.351</td>\n",
       "      <td>1:24.605</td>\n",
       "      <td>1:23.837</td>\n",
       "      <td>NaN</td>\n",
       "      <td>NaN</td>\n",
       "      <td>Albert Park Grand Prix Circuit</td>\n",
       "      <td>10</td>\n",
       "    </tr>\n",
       "    <tr>\n",
       "      <th>2</th>\n",
       "      <td>948</td>\n",
       "      <td>2016</td>\n",
       "      <td>1</td>\n",
       "      <td>Australian Grand Prix</td>\n",
       "      <td>20.0</td>\n",
       "      <td>6.0</td>\n",
       "      <td>15.0</td>\n",
       "      <td>1:29.951</td>\n",
       "      <td>212.235</td>\n",
       "      <td>Sebastian</td>\n",
       "      <td>Vettel</td>\n",
       "      <td>1987-07-03</td>\n",
       "      <td>6685.0</td>\n",
       "      <td>1:26.945</td>\n",
       "      <td>1:25.257</td>\n",
       "      <td>1:24.675</td>\n",
       "      <td>NaN</td>\n",
       "      <td>NaN</td>\n",
       "      <td>Albert Park Grand Prix Circuit</td>\n",
       "      <td>10</td>\n",
       "    </tr>\n",
       "    <tr>\n",
       "      <th>3</th>\n",
       "      <td>948</td>\n",
       "      <td>2016</td>\n",
       "      <td>1</td>\n",
       "      <td>Australian Grand Prix</td>\n",
       "      <td>817.0</td>\n",
       "      <td>9.0</td>\n",
       "      <td>12.0</td>\n",
       "      <td>1:28.997</td>\n",
       "      <td>214.510</td>\n",
       "      <td>Daniel</td>\n",
       "      <td>Ricciardo</td>\n",
       "      <td>1989-07-01</td>\n",
       "      <td>6690.0</td>\n",
       "      <td>1:26.945</td>\n",
       "      <td>1:25.599</td>\n",
       "      <td>1:25.589</td>\n",
       "      <td>NaN</td>\n",
       "      <td>NaN</td>\n",
       "      <td>Albert Park Grand Prix Circuit</td>\n",
       "      <td>10</td>\n",
       "    </tr>\n",
       "    <tr>\n",
       "      <th>4</th>\n",
       "      <td>948</td>\n",
       "      <td>2016</td>\n",
       "      <td>1</td>\n",
       "      <td>Australian Grand Prix</td>\n",
       "      <td>13.0</td>\n",
       "      <td>3.0</td>\n",
       "      <td>10.0</td>\n",
       "      <td>1:32.288</td>\n",
       "      <td>206.861</td>\n",
       "      <td>Felipe</td>\n",
       "      <td>Massa</td>\n",
       "      <td>1981-04-25</td>\n",
       "      <td>6688.0</td>\n",
       "      <td>1:25.918</td>\n",
       "      <td>1:25.644</td>\n",
       "      <td>1:25.458</td>\n",
       "      <td>NaN</td>\n",
       "      <td>NaN</td>\n",
       "      <td>Albert Park Grand Prix Circuit</td>\n",
       "      <td>10</td>\n",
       "    </tr>\n",
       "  </tbody>\n",
       "</table>\n",
       "</div>"
      ],
      "text/plain": [
       "   raceId  year  circuitId              race_name  driverId  constructorId  \\\n",
       "0     948  2016          1  Australian Grand Prix       3.0          131.0   \n",
       "1     948  2016          1  Australian Grand Prix       1.0          131.0   \n",
       "2     948  2016          1  Australian Grand Prix      20.0            6.0   \n",
       "3     948  2016          1  Australian Grand Prix     817.0            9.0   \n",
       "4     948  2016          1  Australian Grand Prix      13.0            3.0   \n",
       "\n",
       "   race_points race_fastestLapTime race_fastestLapSpeed drivers_forename  \\\n",
       "0         25.0            1:30.557              210.815             Nico   \n",
       "1         18.0            1:30.646              210.608            Lewis   \n",
       "2         15.0            1:29.951              212.235        Sebastian   \n",
       "3         12.0            1:28.997              214.510           Daniel   \n",
       "4         10.0            1:32.288              206.861           Felipe   \n",
       "\n",
       "  drivers_surname         dob  qualifyId        q1        q2        q3  \\\n",
       "0         Rosberg  1985-06-27     6684.0  1:26.934  1:24.796  1:24.197   \n",
       "1        Hamilton  1985-01-07     6683.0  1:25.351  1:24.605  1:23.837   \n",
       "2          Vettel  1987-07-03     6685.0  1:26.945  1:25.257  1:24.675   \n",
       "3       Ricciardo  1989-07-01     6690.0  1:26.945  1:25.599  1:25.589   \n",
       "4           Massa  1981-04-25     6688.0  1:25.918  1:25.644  1:25.458   \n",
       "\n",
       "   sprint_points sprint_fastestLapTime                    circuit_name  \\\n",
       "0            NaN                   NaN  Albert Park Grand Prix Circuit   \n",
       "1            NaN                   NaN  Albert Park Grand Prix Circuit   \n",
       "2            NaN                   NaN  Albert Park Grand Prix Circuit   \n",
       "3            NaN                   NaN  Albert Park Grand Prix Circuit   \n",
       "4            NaN                   NaN  Albert Park Grand Prix Circuit   \n",
       "\n",
       "   circuit_altitude  \n",
       "0                10  \n",
       "1                10  \n",
       "2                10  \n",
       "3                10  \n",
       "4                10  "
      ]
     },
     "execution_count": 32,
     "metadata": {},
     "output_type": "execute_result"
    }
   ],
   "source": [
    "# Merge 5: precious df and circuit\n",
    "\n",
    "df4 = pd.merge(df3, circuit, on = ['circuitId'], how='left')\n",
    "df4.head()"
   ]
  },
  {
   "cell_type": "code",
   "execution_count": 33,
   "id": "f96fe804-8989-43b2-9017-536377f961b7",
   "metadata": {
    "tags": []
   },
   "outputs": [
    {
     "name": "stdout",
     "output_type": "stream",
     "text": [
      "<class 'pandas.core.frame.DataFrame'>\n",
      "Int64Index: 3499 entries, 0 to 3498\n",
      "Data columns (total 20 columns):\n",
      " #   Column                 Non-Null Count  Dtype  \n",
      "---  ------                 --------------  -----  \n",
      " 0   raceId                 3499 non-null   int64  \n",
      " 1   year                   3499 non-null   int64  \n",
      " 2   circuitId              3499 non-null   int64  \n",
      " 3   race_name              3499 non-null   object \n",
      " 4   driverId               3481 non-null   float64\n",
      " 5   constructorId          3481 non-null   float64\n",
      " 6   race_points            3481 non-null   float64\n",
      " 7   race_fastestLapTime    3481 non-null   object \n",
      " 8   race_fastestLapSpeed   3481 non-null   object \n",
      " 9   drivers_forename       3481 non-null   object \n",
      " 10  drivers_surname        3481 non-null   object \n",
      " 11  dob                    3481 non-null   object \n",
      " 12  qualifyId              3471 non-null   float64\n",
      " 13  q1                     3471 non-null   object \n",
      " 14  q2                     3462 non-null   object \n",
      " 15  q3                     3453 non-null   object \n",
      " 16  sprint_points          280 non-null    float64\n",
      " 17  sprint_fastestLapTime  280 non-null    object \n",
      " 18  circuit_name           3499 non-null   object \n",
      " 19  circuit_altitude       3499 non-null   int64  \n",
      "dtypes: float64(5), int64(4), object(11)\n",
      "memory usage: 574.1+ KB\n"
     ]
    }
   ],
   "source": [
    "df4.info()"
   ]
  },
  {
   "cell_type": "markdown",
   "id": "9c25a17e-03e4-4a88-af8c-c0ca74c3f086",
   "metadata": {},
   "source": [
    "    Number of records is 2637 for circuit name and altitude. Merge was successful, no nulls"
   ]
  },
  {
   "cell_type": "code",
   "execution_count": 35,
   "id": "8f3139e4-64a8-41fd-b239-9513d6fbaf6b",
   "metadata": {
    "tags": []
   },
   "outputs": [
    {
     "data": {
      "text/html": [
       "<div>\n",
       "<style scoped>\n",
       "    .dataframe tbody tr th:only-of-type {\n",
       "        vertical-align: middle;\n",
       "    }\n",
       "\n",
       "    .dataframe tbody tr th {\n",
       "        vertical-align: top;\n",
       "    }\n",
       "\n",
       "    .dataframe thead th {\n",
       "        text-align: right;\n",
       "    }\n",
       "</style>\n",
       "<table border=\"1\" class=\"dataframe\">\n",
       "  <thead>\n",
       "    <tr style=\"text-align: right;\">\n",
       "      <th></th>\n",
       "      <th>raceId</th>\n",
       "      <th>year</th>\n",
       "      <th>circuitId</th>\n",
       "      <th>race_name</th>\n",
       "      <th>driverId</th>\n",
       "      <th>constructorId</th>\n",
       "      <th>race_points</th>\n",
       "      <th>race_fastestLapTime</th>\n",
       "      <th>race_fastestLapSpeed</th>\n",
       "      <th>drivers_forename</th>\n",
       "      <th>...</th>\n",
       "      <th>dob</th>\n",
       "      <th>qualifyId</th>\n",
       "      <th>q1</th>\n",
       "      <th>q2</th>\n",
       "      <th>q3</th>\n",
       "      <th>sprint_points</th>\n",
       "      <th>sprint_fastestLapTime</th>\n",
       "      <th>circuit_name</th>\n",
       "      <th>circuit_altitude</th>\n",
       "      <th>constructor_points</th>\n",
       "    </tr>\n",
       "  </thead>\n",
       "  <tbody>\n",
       "    <tr>\n",
       "      <th>0</th>\n",
       "      <td>948</td>\n",
       "      <td>2016</td>\n",
       "      <td>1</td>\n",
       "      <td>Australian Grand Prix</td>\n",
       "      <td>3.0</td>\n",
       "      <td>131.0</td>\n",
       "      <td>25.0</td>\n",
       "      <td>1:30.557</td>\n",
       "      <td>210.815</td>\n",
       "      <td>Nico</td>\n",
       "      <td>...</td>\n",
       "      <td>1985-06-27</td>\n",
       "      <td>6684.0</td>\n",
       "      <td>1:26.934</td>\n",
       "      <td>1:24.796</td>\n",
       "      <td>1:24.197</td>\n",
       "      <td>NaN</td>\n",
       "      <td>NaN</td>\n",
       "      <td>Albert Park Grand Prix Circuit</td>\n",
       "      <td>10</td>\n",
       "      <td>43.0</td>\n",
       "    </tr>\n",
       "    <tr>\n",
       "      <th>1</th>\n",
       "      <td>948</td>\n",
       "      <td>2016</td>\n",
       "      <td>1</td>\n",
       "      <td>Australian Grand Prix</td>\n",
       "      <td>1.0</td>\n",
       "      <td>131.0</td>\n",
       "      <td>18.0</td>\n",
       "      <td>1:30.646</td>\n",
       "      <td>210.608</td>\n",
       "      <td>Lewis</td>\n",
       "      <td>...</td>\n",
       "      <td>1985-01-07</td>\n",
       "      <td>6683.0</td>\n",
       "      <td>1:25.351</td>\n",
       "      <td>1:24.605</td>\n",
       "      <td>1:23.837</td>\n",
       "      <td>NaN</td>\n",
       "      <td>NaN</td>\n",
       "      <td>Albert Park Grand Prix Circuit</td>\n",
       "      <td>10</td>\n",
       "      <td>43.0</td>\n",
       "    </tr>\n",
       "    <tr>\n",
       "      <th>2</th>\n",
       "      <td>948</td>\n",
       "      <td>2016</td>\n",
       "      <td>1</td>\n",
       "      <td>Australian Grand Prix</td>\n",
       "      <td>20.0</td>\n",
       "      <td>6.0</td>\n",
       "      <td>15.0</td>\n",
       "      <td>1:29.951</td>\n",
       "      <td>212.235</td>\n",
       "      <td>Sebastian</td>\n",
       "      <td>...</td>\n",
       "      <td>1987-07-03</td>\n",
       "      <td>6685.0</td>\n",
       "      <td>1:26.945</td>\n",
       "      <td>1:25.257</td>\n",
       "      <td>1:24.675</td>\n",
       "      <td>NaN</td>\n",
       "      <td>NaN</td>\n",
       "      <td>Albert Park Grand Prix Circuit</td>\n",
       "      <td>10</td>\n",
       "      <td>15.0</td>\n",
       "    </tr>\n",
       "    <tr>\n",
       "      <th>3</th>\n",
       "      <td>948</td>\n",
       "      <td>2016</td>\n",
       "      <td>1</td>\n",
       "      <td>Australian Grand Prix</td>\n",
       "      <td>817.0</td>\n",
       "      <td>9.0</td>\n",
       "      <td>12.0</td>\n",
       "      <td>1:28.997</td>\n",
       "      <td>214.510</td>\n",
       "      <td>Daniel</td>\n",
       "      <td>...</td>\n",
       "      <td>1989-07-01</td>\n",
       "      <td>6690.0</td>\n",
       "      <td>1:26.945</td>\n",
       "      <td>1:25.599</td>\n",
       "      <td>1:25.589</td>\n",
       "      <td>NaN</td>\n",
       "      <td>NaN</td>\n",
       "      <td>Albert Park Grand Prix Circuit</td>\n",
       "      <td>10</td>\n",
       "      <td>12.0</td>\n",
       "    </tr>\n",
       "    <tr>\n",
       "      <th>4</th>\n",
       "      <td>948</td>\n",
       "      <td>2016</td>\n",
       "      <td>1</td>\n",
       "      <td>Australian Grand Prix</td>\n",
       "      <td>13.0</td>\n",
       "      <td>3.0</td>\n",
       "      <td>10.0</td>\n",
       "      <td>1:32.288</td>\n",
       "      <td>206.861</td>\n",
       "      <td>Felipe</td>\n",
       "      <td>...</td>\n",
       "      <td>1981-04-25</td>\n",
       "      <td>6688.0</td>\n",
       "      <td>1:25.918</td>\n",
       "      <td>1:25.644</td>\n",
       "      <td>1:25.458</td>\n",
       "      <td>NaN</td>\n",
       "      <td>NaN</td>\n",
       "      <td>Albert Park Grand Prix Circuit</td>\n",
       "      <td>10</td>\n",
       "      <td>14.0</td>\n",
       "    </tr>\n",
       "  </tbody>\n",
       "</table>\n",
       "<p>5 rows × 21 columns</p>\n",
       "</div>"
      ],
      "text/plain": [
       "   raceId  year  circuitId              race_name  driverId  constructorId  \\\n",
       "0     948  2016          1  Australian Grand Prix       3.0          131.0   \n",
       "1     948  2016          1  Australian Grand Prix       1.0          131.0   \n",
       "2     948  2016          1  Australian Grand Prix      20.0            6.0   \n",
       "3     948  2016          1  Australian Grand Prix     817.0            9.0   \n",
       "4     948  2016          1  Australian Grand Prix      13.0            3.0   \n",
       "\n",
       "   race_points race_fastestLapTime race_fastestLapSpeed drivers_forename  ...  \\\n",
       "0         25.0            1:30.557              210.815             Nico  ...   \n",
       "1         18.0            1:30.646              210.608            Lewis  ...   \n",
       "2         15.0            1:29.951              212.235        Sebastian  ...   \n",
       "3         12.0            1:28.997              214.510           Daniel  ...   \n",
       "4         10.0            1:32.288              206.861           Felipe  ...   \n",
       "\n",
       "          dob qualifyId        q1        q2        q3 sprint_points  \\\n",
       "0  1985-06-27    6684.0  1:26.934  1:24.796  1:24.197           NaN   \n",
       "1  1985-01-07    6683.0  1:25.351  1:24.605  1:23.837           NaN   \n",
       "2  1987-07-03    6685.0  1:26.945  1:25.257  1:24.675           NaN   \n",
       "3  1989-07-01    6690.0  1:26.945  1:25.599  1:25.589           NaN   \n",
       "4  1981-04-25    6688.0  1:25.918  1:25.644  1:25.458           NaN   \n",
       "\n",
       "   sprint_fastestLapTime                    circuit_name circuit_altitude  \\\n",
       "0                    NaN  Albert Park Grand Prix Circuit               10   \n",
       "1                    NaN  Albert Park Grand Prix Circuit               10   \n",
       "2                    NaN  Albert Park Grand Prix Circuit               10   \n",
       "3                    NaN  Albert Park Grand Prix Circuit               10   \n",
       "4                    NaN  Albert Park Grand Prix Circuit               10   \n",
       "\n",
       "   constructor_points  \n",
       "0                43.0  \n",
       "1                43.0  \n",
       "2                15.0  \n",
       "3                12.0  \n",
       "4                14.0  \n",
       "\n",
       "[5 rows x 21 columns]"
      ]
     },
     "execution_count": 35,
     "metadata": {},
     "output_type": "execute_result"
    }
   ],
   "source": [
    "# Merge 6: previous dataframe and constructor results\n",
    "\n",
    "df5 = pd.merge(df4, constructor_results, on = ['raceId', 'constructorId'], how='left')\n",
    "df5.head()"
   ]
  },
  {
   "cell_type": "code",
   "execution_count": 36,
   "id": "0149fbce-400f-427e-8d0a-7f3e12d10237",
   "metadata": {
    "tags": []
   },
   "outputs": [
    {
     "name": "stdout",
     "output_type": "stream",
     "text": [
      "<class 'pandas.core.frame.DataFrame'>\n",
      "Int64Index: 3499 entries, 0 to 3498\n",
      "Data columns (total 21 columns):\n",
      " #   Column                 Non-Null Count  Dtype  \n",
      "---  ------                 --------------  -----  \n",
      " 0   raceId                 3499 non-null   int64  \n",
      " 1   year                   3499 non-null   int64  \n",
      " 2   circuitId              3499 non-null   int64  \n",
      " 3   race_name              3499 non-null   object \n",
      " 4   driverId               3481 non-null   float64\n",
      " 5   constructorId          3481 non-null   float64\n",
      " 6   race_points            3481 non-null   float64\n",
      " 7   race_fastestLapTime    3481 non-null   object \n",
      " 8   race_fastestLapSpeed   3481 non-null   object \n",
      " 9   drivers_forename       3481 non-null   object \n",
      " 10  drivers_surname        3481 non-null   object \n",
      " 11  dob                    3481 non-null   object \n",
      " 12  qualifyId              3471 non-null   float64\n",
      " 13  q1                     3471 non-null   object \n",
      " 14  q2                     3462 non-null   object \n",
      " 15  q3                     3453 non-null   object \n",
      " 16  sprint_points          280 non-null    float64\n",
      " 17  sprint_fastestLapTime  280 non-null    object \n",
      " 18  circuit_name           3499 non-null   object \n",
      " 19  circuit_altitude       3499 non-null   int64  \n",
      " 20  constructor_points     3481 non-null   float64\n",
      "dtypes: float64(6), int64(4), object(11)\n",
      "memory usage: 601.4+ KB\n"
     ]
    }
   ],
   "source": [
    "df5.info()"
   ]
  },
  {
   "cell_type": "markdown",
   "id": "32f37a3f-f3ec-4945-b722-719501a18ec5",
   "metadata": {},
   "source": [
    "    We have some missing information for constructor points but it's minimal"
   ]
  },
  {
   "cell_type": "code",
   "execution_count": 38,
   "id": "00adb829-78df-4fe1-942d-d58e030d6c1c",
   "metadata": {
    "tags": []
   },
   "outputs": [
    {
     "data": {
      "text/html": [
       "<div>\n",
       "<style scoped>\n",
       "    .dataframe tbody tr th:only-of-type {\n",
       "        vertical-align: middle;\n",
       "    }\n",
       "\n",
       "    .dataframe tbody tr th {\n",
       "        vertical-align: top;\n",
       "    }\n",
       "\n",
       "    .dataframe thead th {\n",
       "        text-align: right;\n",
       "    }\n",
       "</style>\n",
       "<table border=\"1\" class=\"dataframe\">\n",
       "  <thead>\n",
       "    <tr style=\"text-align: right;\">\n",
       "      <th></th>\n",
       "      <th>raceId</th>\n",
       "      <th>year</th>\n",
       "      <th>circuitId</th>\n",
       "      <th>race_name</th>\n",
       "      <th>driverId</th>\n",
       "      <th>constructorId</th>\n",
       "      <th>race_points</th>\n",
       "      <th>race_fastestLapTime</th>\n",
       "      <th>race_fastestLapSpeed</th>\n",
       "      <th>drivers_forename</th>\n",
       "      <th>...</th>\n",
       "      <th>qualifyId</th>\n",
       "      <th>q1</th>\n",
       "      <th>q2</th>\n",
       "      <th>q3</th>\n",
       "      <th>sprint_points</th>\n",
       "      <th>sprint_fastestLapTime</th>\n",
       "      <th>circuit_name</th>\n",
       "      <th>circuit_altitude</th>\n",
       "      <th>constructor_points</th>\n",
       "      <th>constructor_name</th>\n",
       "    </tr>\n",
       "  </thead>\n",
       "  <tbody>\n",
       "    <tr>\n",
       "      <th>0</th>\n",
       "      <td>948</td>\n",
       "      <td>2016</td>\n",
       "      <td>1</td>\n",
       "      <td>Australian Grand Prix</td>\n",
       "      <td>3.0</td>\n",
       "      <td>131.0</td>\n",
       "      <td>25.0</td>\n",
       "      <td>1:30.557</td>\n",
       "      <td>210.815</td>\n",
       "      <td>Nico</td>\n",
       "      <td>...</td>\n",
       "      <td>6684.0</td>\n",
       "      <td>1:26.934</td>\n",
       "      <td>1:24.796</td>\n",
       "      <td>1:24.197</td>\n",
       "      <td>NaN</td>\n",
       "      <td>NaN</td>\n",
       "      <td>Albert Park Grand Prix Circuit</td>\n",
       "      <td>10</td>\n",
       "      <td>43.0</td>\n",
       "      <td>Mercedes</td>\n",
       "    </tr>\n",
       "    <tr>\n",
       "      <th>1</th>\n",
       "      <td>948</td>\n",
       "      <td>2016</td>\n",
       "      <td>1</td>\n",
       "      <td>Australian Grand Prix</td>\n",
       "      <td>1.0</td>\n",
       "      <td>131.0</td>\n",
       "      <td>18.0</td>\n",
       "      <td>1:30.646</td>\n",
       "      <td>210.608</td>\n",
       "      <td>Lewis</td>\n",
       "      <td>...</td>\n",
       "      <td>6683.0</td>\n",
       "      <td>1:25.351</td>\n",
       "      <td>1:24.605</td>\n",
       "      <td>1:23.837</td>\n",
       "      <td>NaN</td>\n",
       "      <td>NaN</td>\n",
       "      <td>Albert Park Grand Prix Circuit</td>\n",
       "      <td>10</td>\n",
       "      <td>43.0</td>\n",
       "      <td>Mercedes</td>\n",
       "    </tr>\n",
       "    <tr>\n",
       "      <th>2</th>\n",
       "      <td>948</td>\n",
       "      <td>2016</td>\n",
       "      <td>1</td>\n",
       "      <td>Australian Grand Prix</td>\n",
       "      <td>20.0</td>\n",
       "      <td>6.0</td>\n",
       "      <td>15.0</td>\n",
       "      <td>1:29.951</td>\n",
       "      <td>212.235</td>\n",
       "      <td>Sebastian</td>\n",
       "      <td>...</td>\n",
       "      <td>6685.0</td>\n",
       "      <td>1:26.945</td>\n",
       "      <td>1:25.257</td>\n",
       "      <td>1:24.675</td>\n",
       "      <td>NaN</td>\n",
       "      <td>NaN</td>\n",
       "      <td>Albert Park Grand Prix Circuit</td>\n",
       "      <td>10</td>\n",
       "      <td>15.0</td>\n",
       "      <td>Ferrari</td>\n",
       "    </tr>\n",
       "    <tr>\n",
       "      <th>3</th>\n",
       "      <td>948</td>\n",
       "      <td>2016</td>\n",
       "      <td>1</td>\n",
       "      <td>Australian Grand Prix</td>\n",
       "      <td>817.0</td>\n",
       "      <td>9.0</td>\n",
       "      <td>12.0</td>\n",
       "      <td>1:28.997</td>\n",
       "      <td>214.510</td>\n",
       "      <td>Daniel</td>\n",
       "      <td>...</td>\n",
       "      <td>6690.0</td>\n",
       "      <td>1:26.945</td>\n",
       "      <td>1:25.599</td>\n",
       "      <td>1:25.589</td>\n",
       "      <td>NaN</td>\n",
       "      <td>NaN</td>\n",
       "      <td>Albert Park Grand Prix Circuit</td>\n",
       "      <td>10</td>\n",
       "      <td>12.0</td>\n",
       "      <td>Red Bull</td>\n",
       "    </tr>\n",
       "    <tr>\n",
       "      <th>4</th>\n",
       "      <td>948</td>\n",
       "      <td>2016</td>\n",
       "      <td>1</td>\n",
       "      <td>Australian Grand Prix</td>\n",
       "      <td>13.0</td>\n",
       "      <td>3.0</td>\n",
       "      <td>10.0</td>\n",
       "      <td>1:32.288</td>\n",
       "      <td>206.861</td>\n",
       "      <td>Felipe</td>\n",
       "      <td>...</td>\n",
       "      <td>6688.0</td>\n",
       "      <td>1:25.918</td>\n",
       "      <td>1:25.644</td>\n",
       "      <td>1:25.458</td>\n",
       "      <td>NaN</td>\n",
       "      <td>NaN</td>\n",
       "      <td>Albert Park Grand Prix Circuit</td>\n",
       "      <td>10</td>\n",
       "      <td>14.0</td>\n",
       "      <td>Williams</td>\n",
       "    </tr>\n",
       "  </tbody>\n",
       "</table>\n",
       "<p>5 rows × 22 columns</p>\n",
       "</div>"
      ],
      "text/plain": [
       "   raceId  year  circuitId              race_name  driverId  constructorId  \\\n",
       "0     948  2016          1  Australian Grand Prix       3.0          131.0   \n",
       "1     948  2016          1  Australian Grand Prix       1.0          131.0   \n",
       "2     948  2016          1  Australian Grand Prix      20.0            6.0   \n",
       "3     948  2016          1  Australian Grand Prix     817.0            9.0   \n",
       "4     948  2016          1  Australian Grand Prix      13.0            3.0   \n",
       "\n",
       "   race_points race_fastestLapTime race_fastestLapSpeed drivers_forename  ...  \\\n",
       "0         25.0            1:30.557              210.815             Nico  ...   \n",
       "1         18.0            1:30.646              210.608            Lewis  ...   \n",
       "2         15.0            1:29.951              212.235        Sebastian  ...   \n",
       "3         12.0            1:28.997              214.510           Daniel  ...   \n",
       "4         10.0            1:32.288              206.861           Felipe  ...   \n",
       "\n",
       "  qualifyId        q1        q2        q3 sprint_points sprint_fastestLapTime  \\\n",
       "0    6684.0  1:26.934  1:24.796  1:24.197           NaN                   NaN   \n",
       "1    6683.0  1:25.351  1:24.605  1:23.837           NaN                   NaN   \n",
       "2    6685.0  1:26.945  1:25.257  1:24.675           NaN                   NaN   \n",
       "3    6690.0  1:26.945  1:25.599  1:25.589           NaN                   NaN   \n",
       "4    6688.0  1:25.918  1:25.644  1:25.458           NaN                   NaN   \n",
       "\n",
       "                     circuit_name circuit_altitude constructor_points  \\\n",
       "0  Albert Park Grand Prix Circuit               10               43.0   \n",
       "1  Albert Park Grand Prix Circuit               10               43.0   \n",
       "2  Albert Park Grand Prix Circuit               10               15.0   \n",
       "3  Albert Park Grand Prix Circuit               10               12.0   \n",
       "4  Albert Park Grand Prix Circuit               10               14.0   \n",
       "\n",
       "   constructor_name  \n",
       "0          Mercedes  \n",
       "1          Mercedes  \n",
       "2           Ferrari  \n",
       "3          Red Bull  \n",
       "4          Williams  \n",
       "\n",
       "[5 rows x 22 columns]"
      ]
     },
     "execution_count": 38,
     "metadata": {},
     "output_type": "execute_result"
    }
   ],
   "source": [
    "# Merge 7: previous df and constructor name\n",
    "# This is the last merge, and the output will be the final dataframe we use for analysis\n",
    "\n",
    "df2016 = pd.merge(df5, constructor_name, on = ['constructorId'], how='left')\n",
    "df2016.head()"
   ]
  },
  {
   "cell_type": "code",
   "execution_count": 39,
   "id": "4a251c04-8d70-4cbc-9bcb-80b857191bcd",
   "metadata": {
    "tags": []
   },
   "outputs": [
    {
     "name": "stdout",
     "output_type": "stream",
     "text": [
      "<class 'pandas.core.frame.DataFrame'>\n",
      "Int64Index: 3499 entries, 0 to 3498\n",
      "Data columns (total 22 columns):\n",
      " #   Column                 Non-Null Count  Dtype  \n",
      "---  ------                 --------------  -----  \n",
      " 0   raceId                 3499 non-null   int64  \n",
      " 1   year                   3499 non-null   int64  \n",
      " 2   circuitId              3499 non-null   int64  \n",
      " 3   race_name              3499 non-null   object \n",
      " 4   driverId               3481 non-null   float64\n",
      " 5   constructorId          3481 non-null   float64\n",
      " 6   race_points            3481 non-null   float64\n",
      " 7   race_fastestLapTime    3481 non-null   object \n",
      " 8   race_fastestLapSpeed   3481 non-null   object \n",
      " 9   drivers_forename       3481 non-null   object \n",
      " 10  drivers_surname        3481 non-null   object \n",
      " 11  dob                    3481 non-null   object \n",
      " 12  qualifyId              3471 non-null   float64\n",
      " 13  q1                     3471 non-null   object \n",
      " 14  q2                     3462 non-null   object \n",
      " 15  q3                     3453 non-null   object \n",
      " 16  sprint_points          280 non-null    float64\n",
      " 17  sprint_fastestLapTime  280 non-null    object \n",
      " 18  circuit_name           3499 non-null   object \n",
      " 19  circuit_altitude       3499 non-null   int64  \n",
      " 20  constructor_points     3481 non-null   float64\n",
      " 21  constructor_name       3481 non-null   object \n",
      "dtypes: float64(6), int64(4), object(12)\n",
      "memory usage: 628.7+ KB\n"
     ]
    }
   ],
   "source": [
    "df2016.info()"
   ]
  },
  {
   "cell_type": "markdown",
   "id": "3fdbbfb3-a599-4488-ab5b-e6364e3fa56f",
   "metadata": {},
   "source": [
    "\n",
    "    I'd say overall we're actually really good in terms of null values. The only exception to this is Sprint points and fastest lap, which I explained why they are null. More information in my email.\n",
    "    \n",
    "    I feel pretty confident with using this dataset for our analysis. "
   ]
  },
  {
   "cell_type": "markdown",
   "id": "fed41c6d-8586-4d53-a317-1c569e9eb6f1",
   "metadata": {
    "tags": []
   },
   "source": [
    "# Download CSV\n",
    "\n",
    "df2016.to_csv('F1 2016 - 2024.csv')"
   ]
  },
  {
   "cell_type": "code",
   "execution_count": 42,
   "id": "08765b4b-b44b-49fd-834f-d5d5693a8a8d",
   "metadata": {
    "tags": []
   },
   "outputs": [],
   "source": [
    "#df2016.to_csv('F1 2016 - 2024.csv')"
   ]
  },
  {
   "cell_type": "markdown",
   "id": "3f43b674-5ff9-4a4a-8e54-ad8f7a80c1eb",
   "metadata": {},
   "source": [
    "# Handling Missing Data"
   ]
  },
  {
   "cell_type": "markdown",
   "id": "df9f1cee-3b24-44bd-9b72-f5ecde67c44c",
   "metadata": {},
   "source": [
    "#### Steps for Handling the Missing Data:"
   ]
  },
  {
   "cell_type": "markdown",
   "id": "bd399f26-1f71-43d6-a676-e1a30439363a",
   "metadata": {},
   "source": [
    "1. Save the F1 2016-2024 dataset into new dataframe: qualy finished (Y/N)\n",
    "2. create a derived variable from q1, there 1 indicates a value and 0 indicates N. repeat for q2 and q3\n",
    "3. remove sprint points and sprint fastest lap\n",
    "4. imput 0 for 'N' for race fastest lap time and speed"
   ]
  },
  {
   "cell_type": "code",
   "execution_count": 46,
   "id": "c44acbc9-38f7-4309-8f3e-42ef2d07e418",
   "metadata": {
    "tags": []
   },
   "outputs": [],
   "source": [
    "## save F1 data in new object for removing missing values \n",
    "qualy_finished = pd.read_csv(\"F1 2016 - 2024.csv\")"
   ]
  },
  {
   "cell_type": "code",
   "execution_count": 47,
   "id": "458289c7-0983-4892-83a0-0be9a7e5095a",
   "metadata": {
    "tags": []
   },
   "outputs": [
    {
     "data": {
      "text/html": [
       "<div>\n",
       "<style scoped>\n",
       "    .dataframe tbody tr th:only-of-type {\n",
       "        vertical-align: middle;\n",
       "    }\n",
       "\n",
       "    .dataframe tbody tr th {\n",
       "        vertical-align: top;\n",
       "    }\n",
       "\n",
       "    .dataframe thead th {\n",
       "        text-align: right;\n",
       "    }\n",
       "</style>\n",
       "<table border=\"1\" class=\"dataframe\">\n",
       "  <thead>\n",
       "    <tr style=\"text-align: right;\">\n",
       "      <th></th>\n",
       "      <th>Unnamed: 0</th>\n",
       "      <th>raceId</th>\n",
       "      <th>year</th>\n",
       "      <th>circuitId</th>\n",
       "      <th>race_name</th>\n",
       "      <th>driverId</th>\n",
       "      <th>constructorId</th>\n",
       "      <th>race_points</th>\n",
       "      <th>race_fastestLapTime</th>\n",
       "      <th>race_fastestLapSpeed</th>\n",
       "      <th>...</th>\n",
       "      <th>qualifyId</th>\n",
       "      <th>q1</th>\n",
       "      <th>q2</th>\n",
       "      <th>q3</th>\n",
       "      <th>sprint_points</th>\n",
       "      <th>sprint_fastestLapTime</th>\n",
       "      <th>circuit_name</th>\n",
       "      <th>circuit_altitude</th>\n",
       "      <th>constructor_points</th>\n",
       "      <th>constructor_name</th>\n",
       "    </tr>\n",
       "  </thead>\n",
       "  <tbody>\n",
       "    <tr>\n",
       "      <th>0</th>\n",
       "      <td>0</td>\n",
       "      <td>948</td>\n",
       "      <td>2016</td>\n",
       "      <td>1</td>\n",
       "      <td>Australian Grand Prix</td>\n",
       "      <td>3.0</td>\n",
       "      <td>131.0</td>\n",
       "      <td>25.0</td>\n",
       "      <td>1:30.557</td>\n",
       "      <td>210.815</td>\n",
       "      <td>...</td>\n",
       "      <td>6684.0</td>\n",
       "      <td>1:26.934</td>\n",
       "      <td>1:24.796</td>\n",
       "      <td>1:24.197</td>\n",
       "      <td>NaN</td>\n",
       "      <td>NaN</td>\n",
       "      <td>Albert Park Grand Prix Circuit</td>\n",
       "      <td>10</td>\n",
       "      <td>43.0</td>\n",
       "      <td>Mercedes</td>\n",
       "    </tr>\n",
       "    <tr>\n",
       "      <th>1</th>\n",
       "      <td>1</td>\n",
       "      <td>948</td>\n",
       "      <td>2016</td>\n",
       "      <td>1</td>\n",
       "      <td>Australian Grand Prix</td>\n",
       "      <td>1.0</td>\n",
       "      <td>131.0</td>\n",
       "      <td>18.0</td>\n",
       "      <td>1:30.646</td>\n",
       "      <td>210.608</td>\n",
       "      <td>...</td>\n",
       "      <td>6683.0</td>\n",
       "      <td>1:25.351</td>\n",
       "      <td>1:24.605</td>\n",
       "      <td>1:23.837</td>\n",
       "      <td>NaN</td>\n",
       "      <td>NaN</td>\n",
       "      <td>Albert Park Grand Prix Circuit</td>\n",
       "      <td>10</td>\n",
       "      <td>43.0</td>\n",
       "      <td>Mercedes</td>\n",
       "    </tr>\n",
       "    <tr>\n",
       "      <th>2</th>\n",
       "      <td>2</td>\n",
       "      <td>948</td>\n",
       "      <td>2016</td>\n",
       "      <td>1</td>\n",
       "      <td>Australian Grand Prix</td>\n",
       "      <td>20.0</td>\n",
       "      <td>6.0</td>\n",
       "      <td>15.0</td>\n",
       "      <td>1:29.951</td>\n",
       "      <td>212.235</td>\n",
       "      <td>...</td>\n",
       "      <td>6685.0</td>\n",
       "      <td>1:26.945</td>\n",
       "      <td>1:25.257</td>\n",
       "      <td>1:24.675</td>\n",
       "      <td>NaN</td>\n",
       "      <td>NaN</td>\n",
       "      <td>Albert Park Grand Prix Circuit</td>\n",
       "      <td>10</td>\n",
       "      <td>15.0</td>\n",
       "      <td>Ferrari</td>\n",
       "    </tr>\n",
       "    <tr>\n",
       "      <th>3</th>\n",
       "      <td>3</td>\n",
       "      <td>948</td>\n",
       "      <td>2016</td>\n",
       "      <td>1</td>\n",
       "      <td>Australian Grand Prix</td>\n",
       "      <td>817.0</td>\n",
       "      <td>9.0</td>\n",
       "      <td>12.0</td>\n",
       "      <td>1:28.997</td>\n",
       "      <td>214.510</td>\n",
       "      <td>...</td>\n",
       "      <td>6690.0</td>\n",
       "      <td>1:26.945</td>\n",
       "      <td>1:25.599</td>\n",
       "      <td>1:25.589</td>\n",
       "      <td>NaN</td>\n",
       "      <td>NaN</td>\n",
       "      <td>Albert Park Grand Prix Circuit</td>\n",
       "      <td>10</td>\n",
       "      <td>12.0</td>\n",
       "      <td>Red Bull</td>\n",
       "    </tr>\n",
       "    <tr>\n",
       "      <th>4</th>\n",
       "      <td>4</td>\n",
       "      <td>948</td>\n",
       "      <td>2016</td>\n",
       "      <td>1</td>\n",
       "      <td>Australian Grand Prix</td>\n",
       "      <td>13.0</td>\n",
       "      <td>3.0</td>\n",
       "      <td>10.0</td>\n",
       "      <td>1:32.288</td>\n",
       "      <td>206.861</td>\n",
       "      <td>...</td>\n",
       "      <td>6688.0</td>\n",
       "      <td>1:25.918</td>\n",
       "      <td>1:25.644</td>\n",
       "      <td>1:25.458</td>\n",
       "      <td>NaN</td>\n",
       "      <td>NaN</td>\n",
       "      <td>Albert Park Grand Prix Circuit</td>\n",
       "      <td>10</td>\n",
       "      <td>14.0</td>\n",
       "      <td>Williams</td>\n",
       "    </tr>\n",
       "  </tbody>\n",
       "</table>\n",
       "<p>5 rows × 23 columns</p>\n",
       "</div>"
      ],
      "text/plain": [
       "   Unnamed: 0  raceId  year  circuitId              race_name  driverId  \\\n",
       "0           0     948  2016          1  Australian Grand Prix       3.0   \n",
       "1           1     948  2016          1  Australian Grand Prix       1.0   \n",
       "2           2     948  2016          1  Australian Grand Prix      20.0   \n",
       "3           3     948  2016          1  Australian Grand Prix     817.0   \n",
       "4           4     948  2016          1  Australian Grand Prix      13.0   \n",
       "\n",
       "   constructorId  race_points race_fastestLapTime race_fastestLapSpeed  ...  \\\n",
       "0          131.0         25.0            1:30.557              210.815  ...   \n",
       "1          131.0         18.0            1:30.646              210.608  ...   \n",
       "2            6.0         15.0            1:29.951              212.235  ...   \n",
       "3            9.0         12.0            1:28.997              214.510  ...   \n",
       "4            3.0         10.0            1:32.288              206.861  ...   \n",
       "\n",
       "  qualifyId        q1        q2        q3 sprint_points sprint_fastestLapTime  \\\n",
       "0    6684.0  1:26.934  1:24.796  1:24.197           NaN                   NaN   \n",
       "1    6683.0  1:25.351  1:24.605  1:23.837           NaN                   NaN   \n",
       "2    6685.0  1:26.945  1:25.257  1:24.675           NaN                   NaN   \n",
       "3    6690.0  1:26.945  1:25.599  1:25.589           NaN                   NaN   \n",
       "4    6688.0  1:25.918  1:25.644  1:25.458           NaN                   NaN   \n",
       "\n",
       "                     circuit_name  circuit_altitude constructor_points  \\\n",
       "0  Albert Park Grand Prix Circuit                10               43.0   \n",
       "1  Albert Park Grand Prix Circuit                10               43.0   \n",
       "2  Albert Park Grand Prix Circuit                10               15.0   \n",
       "3  Albert Park Grand Prix Circuit                10               12.0   \n",
       "4  Albert Park Grand Prix Circuit                10               14.0   \n",
       "\n",
       "  constructor_name  \n",
       "0         Mercedes  \n",
       "1         Mercedes  \n",
       "2          Ferrari  \n",
       "3         Red Bull  \n",
       "4         Williams  \n",
       "\n",
       "[5 rows x 23 columns]"
      ]
     },
     "execution_count": 47,
     "metadata": {},
     "output_type": "execute_result"
    }
   ],
   "source": [
    "qualy_finished.head()"
   ]
  },
  {
   "cell_type": "code",
   "execution_count": 48,
   "id": "b1f36374-bf35-421e-9d81-e7afd4f85433",
   "metadata": {
    "tags": []
   },
   "outputs": [
    {
     "name": "stdout",
     "output_type": "stream",
     "text": [
      "Unnamed: 0 - 0.0\n",
      "raceId - 0.0\n",
      "year - 0.0\n",
      "circuitId - 0.0\n",
      "race_name - 0.0\n",
      "driverId - 0.005\n",
      "constructorId - 0.005\n",
      "race_points - 0.005\n",
      "race_fastestLapTime - 0.005\n",
      "race_fastestLapSpeed - 0.005\n",
      "drivers_forename - 0.005\n",
      "drivers_surname - 0.005\n",
      "dob - 0.005\n",
      "qualifyId - 0.008\n",
      "q1 - 0.008\n",
      "q2 - 0.011\n",
      "q3 - 0.013\n",
      "sprint_points - 0.92\n",
      "sprint_fastestLapTime - 0.92\n",
      "circuit_name - 0.0\n",
      "circuit_altitude - 0.0\n",
      "constructor_points - 0.005\n",
      "constructor_name - 0.005\n"
     ]
    }
   ],
   "source": [
    "## view proportion of missing data for each variable\n",
    "for col in qualy_finished.columns:\n",
    "    pct_missing = round(np.mean(qualy_finished[col].isnull()), 3)\n",
    "    print('{} - {}'.format(col, pct_missing))"
   ]
  },
  {
   "cell_type": "code",
   "execution_count": 49,
   "id": "b25882c0-fefa-4780-bb87-55708711e3cb",
   "metadata": {
    "tags": []
   },
   "outputs": [],
   "source": [
    "## create 3 new binary variables \n",
    "qualy_finished['q1_complete'] = np.where(qualy_finished['q1']=='N',0,1)\n",
    "qualy_finished['q2_complete'] = np.where(qualy_finished['q2']=='N',0,1)\n",
    "qualy_finished['q3_complete'] = np.where(qualy_finished['q3']=='N',0,1)"
   ]
  },
  {
   "cell_type": "code",
   "execution_count": 50,
   "id": "7fe607a6-45a6-4e5d-812a-36d6296420ed",
   "metadata": {
    "tags": []
   },
   "outputs": [],
   "source": [
    "## drop the original qualy time variables \n",
    "qualy_finished = qualy_finished.drop('q1',axis=1)\n",
    "qualy_finished = qualy_finished.drop('q2',axis=1)\n",
    "qualy_finished = qualy_finished.drop('q3',axis=1)"
   ]
  },
  {
   "cell_type": "code",
   "execution_count": 51,
   "id": "9ec87644-c284-44e1-8b9f-e1337706248c",
   "metadata": {
    "tags": []
   },
   "outputs": [
    {
     "data": {
      "text/html": [
       "<div>\n",
       "<style scoped>\n",
       "    .dataframe tbody tr th:only-of-type {\n",
       "        vertical-align: middle;\n",
       "    }\n",
       "\n",
       "    .dataframe tbody tr th {\n",
       "        vertical-align: top;\n",
       "    }\n",
       "\n",
       "    .dataframe thead th {\n",
       "        text-align: right;\n",
       "    }\n",
       "</style>\n",
       "<table border=\"1\" class=\"dataframe\">\n",
       "  <thead>\n",
       "    <tr style=\"text-align: right;\">\n",
       "      <th></th>\n",
       "      <th>Unnamed: 0</th>\n",
       "      <th>raceId</th>\n",
       "      <th>year</th>\n",
       "      <th>circuitId</th>\n",
       "      <th>race_name</th>\n",
       "      <th>driverId</th>\n",
       "      <th>constructorId</th>\n",
       "      <th>race_points</th>\n",
       "      <th>race_fastestLapTime</th>\n",
       "      <th>race_fastestLapSpeed</th>\n",
       "      <th>...</th>\n",
       "      <th>qualifyId</th>\n",
       "      <th>sprint_points</th>\n",
       "      <th>sprint_fastestLapTime</th>\n",
       "      <th>circuit_name</th>\n",
       "      <th>circuit_altitude</th>\n",
       "      <th>constructor_points</th>\n",
       "      <th>constructor_name</th>\n",
       "      <th>q1_complete</th>\n",
       "      <th>q2_complete</th>\n",
       "      <th>q3_complete</th>\n",
       "    </tr>\n",
       "  </thead>\n",
       "  <tbody>\n",
       "    <tr>\n",
       "      <th>0</th>\n",
       "      <td>0</td>\n",
       "      <td>948</td>\n",
       "      <td>2016</td>\n",
       "      <td>1</td>\n",
       "      <td>Australian Grand Prix</td>\n",
       "      <td>3.0</td>\n",
       "      <td>131.0</td>\n",
       "      <td>25.0</td>\n",
       "      <td>1:30.557</td>\n",
       "      <td>210.815</td>\n",
       "      <td>...</td>\n",
       "      <td>6684.0</td>\n",
       "      <td>NaN</td>\n",
       "      <td>NaN</td>\n",
       "      <td>Albert Park Grand Prix Circuit</td>\n",
       "      <td>10</td>\n",
       "      <td>43.0</td>\n",
       "      <td>Mercedes</td>\n",
       "      <td>1</td>\n",
       "      <td>1</td>\n",
       "      <td>1</td>\n",
       "    </tr>\n",
       "    <tr>\n",
       "      <th>1</th>\n",
       "      <td>1</td>\n",
       "      <td>948</td>\n",
       "      <td>2016</td>\n",
       "      <td>1</td>\n",
       "      <td>Australian Grand Prix</td>\n",
       "      <td>1.0</td>\n",
       "      <td>131.0</td>\n",
       "      <td>18.0</td>\n",
       "      <td>1:30.646</td>\n",
       "      <td>210.608</td>\n",
       "      <td>...</td>\n",
       "      <td>6683.0</td>\n",
       "      <td>NaN</td>\n",
       "      <td>NaN</td>\n",
       "      <td>Albert Park Grand Prix Circuit</td>\n",
       "      <td>10</td>\n",
       "      <td>43.0</td>\n",
       "      <td>Mercedes</td>\n",
       "      <td>1</td>\n",
       "      <td>1</td>\n",
       "      <td>1</td>\n",
       "    </tr>\n",
       "    <tr>\n",
       "      <th>2</th>\n",
       "      <td>2</td>\n",
       "      <td>948</td>\n",
       "      <td>2016</td>\n",
       "      <td>1</td>\n",
       "      <td>Australian Grand Prix</td>\n",
       "      <td>20.0</td>\n",
       "      <td>6.0</td>\n",
       "      <td>15.0</td>\n",
       "      <td>1:29.951</td>\n",
       "      <td>212.235</td>\n",
       "      <td>...</td>\n",
       "      <td>6685.0</td>\n",
       "      <td>NaN</td>\n",
       "      <td>NaN</td>\n",
       "      <td>Albert Park Grand Prix Circuit</td>\n",
       "      <td>10</td>\n",
       "      <td>15.0</td>\n",
       "      <td>Ferrari</td>\n",
       "      <td>1</td>\n",
       "      <td>1</td>\n",
       "      <td>1</td>\n",
       "    </tr>\n",
       "    <tr>\n",
       "      <th>3</th>\n",
       "      <td>3</td>\n",
       "      <td>948</td>\n",
       "      <td>2016</td>\n",
       "      <td>1</td>\n",
       "      <td>Australian Grand Prix</td>\n",
       "      <td>817.0</td>\n",
       "      <td>9.0</td>\n",
       "      <td>12.0</td>\n",
       "      <td>1:28.997</td>\n",
       "      <td>214.510</td>\n",
       "      <td>...</td>\n",
       "      <td>6690.0</td>\n",
       "      <td>NaN</td>\n",
       "      <td>NaN</td>\n",
       "      <td>Albert Park Grand Prix Circuit</td>\n",
       "      <td>10</td>\n",
       "      <td>12.0</td>\n",
       "      <td>Red Bull</td>\n",
       "      <td>1</td>\n",
       "      <td>1</td>\n",
       "      <td>1</td>\n",
       "    </tr>\n",
       "    <tr>\n",
       "      <th>4</th>\n",
       "      <td>4</td>\n",
       "      <td>948</td>\n",
       "      <td>2016</td>\n",
       "      <td>1</td>\n",
       "      <td>Australian Grand Prix</td>\n",
       "      <td>13.0</td>\n",
       "      <td>3.0</td>\n",
       "      <td>10.0</td>\n",
       "      <td>1:32.288</td>\n",
       "      <td>206.861</td>\n",
       "      <td>...</td>\n",
       "      <td>6688.0</td>\n",
       "      <td>NaN</td>\n",
       "      <td>NaN</td>\n",
       "      <td>Albert Park Grand Prix Circuit</td>\n",
       "      <td>10</td>\n",
       "      <td>14.0</td>\n",
       "      <td>Williams</td>\n",
       "      <td>1</td>\n",
       "      <td>1</td>\n",
       "      <td>1</td>\n",
       "    </tr>\n",
       "  </tbody>\n",
       "</table>\n",
       "<p>5 rows × 23 columns</p>\n",
       "</div>"
      ],
      "text/plain": [
       "   Unnamed: 0  raceId  year  circuitId              race_name  driverId  \\\n",
       "0           0     948  2016          1  Australian Grand Prix       3.0   \n",
       "1           1     948  2016          1  Australian Grand Prix       1.0   \n",
       "2           2     948  2016          1  Australian Grand Prix      20.0   \n",
       "3           3     948  2016          1  Australian Grand Prix     817.0   \n",
       "4           4     948  2016          1  Australian Grand Prix      13.0   \n",
       "\n",
       "   constructorId  race_points race_fastestLapTime race_fastestLapSpeed  ...  \\\n",
       "0          131.0         25.0            1:30.557              210.815  ...   \n",
       "1          131.0         18.0            1:30.646              210.608  ...   \n",
       "2            6.0         15.0            1:29.951              212.235  ...   \n",
       "3            9.0         12.0            1:28.997              214.510  ...   \n",
       "4            3.0         10.0            1:32.288              206.861  ...   \n",
       "\n",
       "  qualifyId sprint_points sprint_fastestLapTime  \\\n",
       "0    6684.0           NaN                   NaN   \n",
       "1    6683.0           NaN                   NaN   \n",
       "2    6685.0           NaN                   NaN   \n",
       "3    6690.0           NaN                   NaN   \n",
       "4    6688.0           NaN                   NaN   \n",
       "\n",
       "                     circuit_name  circuit_altitude constructor_points  \\\n",
       "0  Albert Park Grand Prix Circuit                10               43.0   \n",
       "1  Albert Park Grand Prix Circuit                10               43.0   \n",
       "2  Albert Park Grand Prix Circuit                10               15.0   \n",
       "3  Albert Park Grand Prix Circuit                10               12.0   \n",
       "4  Albert Park Grand Prix Circuit                10               14.0   \n",
       "\n",
       "  constructor_name  q1_complete  q2_complete q3_complete  \n",
       "0         Mercedes            1            1           1  \n",
       "1         Mercedes            1            1           1  \n",
       "2          Ferrari            1            1           1  \n",
       "3         Red Bull            1            1           1  \n",
       "4         Williams            1            1           1  \n",
       "\n",
       "[5 rows x 23 columns]"
      ]
     },
     "execution_count": 51,
     "metadata": {},
     "output_type": "execute_result"
    }
   ],
   "source": [
    "## make sure changes were made correctly\n",
    "qualy_finished.head()"
   ]
  },
  {
   "cell_type": "code",
   "execution_count": 52,
   "id": "9b65d69c-a8b6-46d6-9747-f544d89cde15",
   "metadata": {
    "tags": []
   },
   "outputs": [],
   "source": [
    "## impute 0 for 'N' for race fastest lap time and fastest lap speed \n",
    "## we can do this because these variables have the value 'N' in 0.5% of the observations,\n",
    "# so imputing 0 won't greatly bias the data\n",
    "\n",
    "qualy_finished.replace(to_replace='N',value=0,inplace=True)"
   ]
  },
  {
   "cell_type": "code",
   "execution_count": 53,
   "id": "3e80d0f1-04c8-44c9-bfd0-de7669cf00a8",
   "metadata": {
    "tags": []
   },
   "outputs": [],
   "source": [
    "## because sprint points and lap time are 92% missing, we will remove them as they don't \n",
    "# provide insightful information for our analysys\n",
    "qualy_finished = qualy_finished.drop('sprint_points',axis=1)\n",
    "qualy_finished = qualy_finished.drop('sprint_fastestLapTime',axis=1)"
   ]
  },
  {
   "cell_type": "code",
   "execution_count": 54,
   "id": "bcc2308f-d700-4b85-8088-b64138490002",
   "metadata": {
    "tags": []
   },
   "outputs": [
    {
     "name": "stdout",
     "output_type": "stream",
     "text": [
      "count    3481.000000\n",
      "mean        5.004453\n",
      "std         7.188846\n",
      "min         0.000000\n",
      "25%         0.000000\n",
      "50%         0.000000\n",
      "75%         8.000000\n",
      "max        26.000000\n",
      "Name: race_points, dtype: float64\n"
     ]
    },
    {
     "data": {
      "text/plain": [
       "1.4112247943961296"
      ]
     },
     "execution_count": 54,
     "metadata": {},
     "output_type": "execute_result"
    }
   ],
   "source": [
    "## now, we move on to race points, which has 0.5% missing data\n",
    "print(qualy_finished['race_points'].describe())\n",
    "qualy_finished['race_points'].skew()"
   ]
  },
  {
   "cell_type": "code",
   "execution_count": 55,
   "id": "79ba766f-1e47-4bfe-aafd-e434f5f5c419",
   "metadata": {
    "tags": []
   },
   "outputs": [],
   "source": [
    "## because race_points is skewed we will impute nulls with the median value of 0\n",
    "qualy_finished = qualy_finished.fillna({'race_points':qualy_finished.race_points.median()})"
   ]
  },
  {
   "cell_type": "code",
   "execution_count": 56,
   "id": "72117382-b905-44e3-8e56-8eddaf955542",
   "metadata": {
    "tags": []
   },
   "outputs": [
    {
     "name": "stdout",
     "output_type": "stream",
     "text": [
      "count    3481.000000\n",
      "mean       10.246768\n",
      "std        12.918461\n",
      "min         0.000000\n",
      "25%         0.000000\n",
      "50%         4.000000\n",
      "75%        18.000000\n",
      "max        58.000000\n",
      "Name: constructor_points, dtype: float64\n"
     ]
    },
    {
     "data": {
      "text/plain": [
       "1.2604256550146704"
      ]
     },
     "execution_count": 56,
     "metadata": {},
     "output_type": "execute_result"
    }
   ],
   "source": [
    "## we follow a similar process for constructor points\n",
    "print(qualy_finished['constructor_points'].describe())\n",
    "qualy_finished['constructor_points'].skew()"
   ]
  },
  {
   "cell_type": "code",
   "execution_count": 57,
   "id": "dd309175-7455-47ad-b1dd-e20aeb6fd0bc",
   "metadata": {
    "tags": []
   },
   "outputs": [],
   "source": [
    "## because constructor_points is skewed we will impute nulls with the median value of 4\n",
    "qualy_finished = qualy_finished.fillna({'constructor_points':qualy_finished.constructor_points.median()})"
   ]
  },
  {
   "cell_type": "code",
   "execution_count": 58,
   "id": "fb212d94-d030-468f-9837-37e021343df1",
   "metadata": {
    "tags": []
   },
   "outputs": [],
   "source": [
    "## drop rows 3483-3499\n",
    "qualy_finished = qualy_finished.drop(3482)\n",
    "qualy_finished = qualy_finished.drop(3483)\n",
    "qualy_finished = qualy_finished.drop(3484)\n",
    "qualy_finished = qualy_finished.drop(3485)\n",
    "qualy_finished = qualy_finished.drop(3486)\n",
    "qualy_finished = qualy_finished.drop(3487)\n",
    "qualy_finished = qualy_finished.drop(3488)\n",
    "qualy_finished = qualy_finished.drop(3489)\n",
    "qualy_finished = qualy_finished.drop(3490)\n",
    "qualy_finished = qualy_finished.drop(3491)\n",
    "qualy_finished = qualy_finished.drop(3492)\n",
    "qualy_finished = qualy_finished.drop(3493)\n",
    "qualy_finished = qualy_finished.drop(3494)\n",
    "qualy_finished = qualy_finished.drop(3495)\n",
    "qualy_finished = qualy_finished.drop(3496)\n",
    "qualy_finished = qualy_finished.drop(3497)\n",
    "qualy_finished = qualy_finished.drop(3498)"
   ]
  },
  {
   "cell_type": "code",
   "execution_count": 59,
   "id": "2dd7f492-9ecf-4780-87bd-01bc9dd73566",
   "metadata": {
    "tags": []
   },
   "outputs": [
    {
     "name": "stdout",
     "output_type": "stream",
     "text": [
      "Unnamed: 0 - 0.0\n",
      "raceId - 0.0\n",
      "year - 0.0\n",
      "circuitId - 0.0\n",
      "race_name - 0.0\n",
      "driverId - 0.0\n",
      "constructorId - 0.0\n",
      "race_points - 0.0\n",
      "race_fastestLapTime - 0.0\n",
      "race_fastestLapSpeed - 0.0\n",
      "drivers_forename - 0.0\n",
      "drivers_surname - 0.0\n",
      "dob - 0.0\n",
      "qualifyId - 0.003\n",
      "circuit_name - 0.0\n",
      "circuit_altitude - 0.0\n",
      "constructor_points - 0.0\n",
      "constructor_name - 0.0\n",
      "q1_complete - 0.0\n",
      "q2_complete - 0.0\n",
      "q3_complete - 0.0\n"
     ]
    }
   ],
   "source": [
    "## view proporation of missing data again. the only variable left with missing data is qualifyId\n",
    "for col in qualy_finished.columns:\n",
    "    pct_missing = round(np.mean(qualy_finished[col].isnull()), 3)\n",
    "    print('{} - {}'.format(col, pct_missing))"
   ]
  },
  {
   "cell_type": "code",
   "execution_count": 60,
   "id": "88f878ac-ae39-4234-bf68-43a592f42f9b",
   "metadata": {
    "tags": []
   },
   "outputs": [],
   "source": [
    "## impute missing qualify id with median because missing values constitute a very small percentage of data\n",
    "qualy_finished = qualy_finished.fillna({'qualifyId':qualy_finished.qualifyId.median()})"
   ]
  },
  {
   "cell_type": "code",
   "execution_count": 61,
   "id": "84588f7f-4abc-43f2-b2fa-806d812d96eb",
   "metadata": {
    "tags": []
   },
   "outputs": [
    {
     "name": "stdout",
     "output_type": "stream",
     "text": [
      "Unnamed: 0 - 0.0\n",
      "raceId - 0.0\n",
      "year - 0.0\n",
      "circuitId - 0.0\n",
      "race_name - 0.0\n",
      "driverId - 0.0\n",
      "constructorId - 0.0\n",
      "race_points - 0.0\n",
      "race_fastestLapTime - 0.0\n",
      "race_fastestLapSpeed - 0.0\n",
      "drivers_forename - 0.0\n",
      "drivers_surname - 0.0\n",
      "dob - 0.0\n",
      "qualifyId - 0.0\n",
      "circuit_name - 0.0\n",
      "circuit_altitude - 0.0\n",
      "constructor_points - 0.0\n",
      "constructor_name - 0.0\n",
      "q1_complete - 0.0\n",
      "q2_complete - 0.0\n",
      "q3_complete - 0.0\n"
     ]
    }
   ],
   "source": [
    "## view proporation of missing data one last time. there is no more missing data.\n",
    "for col in qualy_finished.columns:\n",
    "    pct_missing = round(np.mean(qualy_finished[col].isnull()), 3)\n",
    "    print('{} - {}'.format(col, pct_missing))"
   ]
  },
  {
   "cell_type": "markdown",
   "id": "e9bd6dd7-fa1d-4441-9591-f1bbd2ff496c",
   "metadata": {
    "tags": []
   },
   "source": [
    "# EDA "
   ]
  },
  {
   "cell_type": "markdown",
   "id": "753d7cdb-30ac-4f6b-9255-8744b6e2f0cd",
   "metadata": {},
   "source": [
    "## Continuous Assessment"
   ]
  },
  {
   "cell_type": "code",
   "execution_count": 64,
   "id": "79f98fa9-a2ed-41f7-bcd1-2fd675765e07",
   "metadata": {
    "tags": []
   },
   "outputs": [
    {
     "name": "stdout",
     "output_type": "stream",
     "text": [
      "<class 'pandas.core.frame.DataFrame'>\n",
      "Int64Index: 3482 entries, 0 to 3481\n",
      "Data columns (total 21 columns):\n",
      " #   Column                Non-Null Count  Dtype  \n",
      "---  ------                --------------  -----  \n",
      " 0   Unnamed: 0            3482 non-null   int64  \n",
      " 1   raceId                3482 non-null   int64  \n",
      " 2   year                  3482 non-null   int64  \n",
      " 3   circuitId             3482 non-null   int64  \n",
      " 4   race_name             3482 non-null   object \n",
      " 5   driverId              3481 non-null   float64\n",
      " 6   constructorId         3481 non-null   float64\n",
      " 7   race_points           3482 non-null   float64\n",
      " 8   race_fastestLapTime   3481 non-null   object \n",
      " 9   race_fastestLapSpeed  3481 non-null   object \n",
      " 10  drivers_forename      3481 non-null   object \n",
      " 11  drivers_surname       3481 non-null   object \n",
      " 12  dob                   3481 non-null   object \n",
      " 13  qualifyId             3482 non-null   float64\n",
      " 14  circuit_name          3482 non-null   object \n",
      " 15  circuit_altitude      3482 non-null   int64  \n",
      " 16  constructor_points    3482 non-null   float64\n",
      " 17  constructor_name      3481 non-null   object \n",
      " 18  q1_complete           3482 non-null   int32  \n",
      " 19  q2_complete           3482 non-null   int32  \n",
      " 20  q3_complete           3482 non-null   int32  \n",
      "dtypes: float64(5), int32(3), int64(5), object(8)\n",
      "memory usage: 557.7+ KB\n"
     ]
    }
   ],
   "source": [
    "qualy_finished.info()"
   ]
  },
  {
   "cell_type": "code",
   "execution_count": 65,
   "id": "4dc38be8-6931-4f40-a8f7-7ce68390fedb",
   "metadata": {},
   "outputs": [],
   "source": [
    "## continuous variables include year, race points, age, race time, race speed, circuit altitiude, constructor points\n",
    "\n",
    "## race time and speed need to be converted\n",
    "## age to be converted"
   ]
  },
  {
   "cell_type": "markdown",
   "id": "98ff7a43-2f44-4bd2-9b7c-fd0b3017ccc8",
   "metadata": {},
   "source": [
    "#### Descriptive Statistics and Distributions"
   ]
  },
  {
   "cell_type": "code",
   "execution_count": 123,
   "id": "6abe53fd-86ad-4b46-a506-82e650c1d280",
   "metadata": {
    "tags": []
   },
   "outputs": [
    {
     "name": "stdout",
     "output_type": "stream",
     "text": [
      "Descriptive Statistics for year:\n",
      "count    3482.000000\n",
      "mean     2019.658817\n",
      "std         2.442483\n",
      "min      2016.000000\n",
      "25%      2018.000000\n",
      "50%      2020.000000\n",
      "75%      2022.000000\n",
      "max      2024.000000\n",
      "Name: year, dtype: float64\n",
      "skew: 0.015\n"
     ]
    },
    {
     "data": {
      "image/png": "[encoded data removed]",
      "text/plain": [
       "<Figure size 640x480 with 1 Axes>"
      ]
     },
     "metadata": {},
     "output_type": "display_data"
    },
    {
     "name": "stdout",
     "output_type": "stream",
     "text": [
      " \n",
      "Descriptive Statistics for race_points:\n",
      "count    3482.000000\n",
      "mean        5.003016\n",
      "std         7.188314\n",
      "min         0.000000\n",
      "25%         0.000000\n",
      "50%         0.000000\n",
      "75%         8.000000\n",
      "max        26.000000\n",
      "Name: race_points, dtype: float64\n",
      "skew: 1.412\n"
     ]
    },
    {
     "data": {
      "image/png": "[encoded data removed]",
      "text/plain": [
       "<Figure size 640x480 with 1 Axes>"
      ]
     },
     "metadata": {},
     "output_type": "display_data"
    },
    {
     "name": "stdout",
     "output_type": "stream",
     "text": [
      " \n",
      "Descriptive Statistics for circuit_altitude:\n",
      "count    3482.000000\n",
      "mean      248.780873\n",
      "std       465.417799\n",
      "min        -7.000000\n",
      "25%         7.000000\n",
      "50%        45.000000\n",
      "75%       264.000000\n",
      "max      2227.000000\n",
      "Name: circuit_altitude, dtype: float64\n",
      "skew: 3.18\n"
     ]
    },
    {
     "data": {
      "image/png": "[encoded data removed]",
      "text/plain": [
       "<Figure size 640x480 with 1 Axes>"
      ]
     },
     "metadata": {},
     "output_type": "display_data"
    },
    {
     "name": "stdout",
     "output_type": "stream",
     "text": [
      " \n",
      "Descriptive Statistics for constructor_points:\n",
      "count    3482.000000\n",
      "mean       10.244974\n",
      "std        12.917040\n",
      "min         0.000000\n",
      "25%         0.000000\n",
      "50%         4.000000\n",
      "75%        18.000000\n",
      "max        58.000000\n",
      "Name: constructor_points, dtype: float64\n",
      "skew: 1.261\n"
     ]
    },
    {
     "data": {
      "image/png": "[encoded data removed]",
      "text/plain": [
       "<Figure size 640x480 with 1 Axes>"
      ]
     },
     "metadata": {},
     "output_type": "display_data"
    },
    {
     "name": "stdout",
     "output_type": "stream",
     "text": [
      " \n"
     ]
    }
   ],
   "source": [
    "continuous_predictors = ['year','race_points','circuit_altitude','constructor_points']\n",
    "\n",
    "x = qualy_finished[continuous_predictors]\n",
    "\n",
    "for column in qualy_finished[continuous_predictors]:\n",
    "    print(f'Descriptive Statistics for {column}:')\n",
    "    print(qualy_finished[column].describe())\n",
    "    print(f'skew: {round(qualy_finished[column].skew(),3)}')\n",
    "    plt.hist(qualy_finished[column], bins=15, color='cadetblue', edgecolor='gray')\n",
    "    plt.xlabel(column)\n",
    "    plt.ylabel('Frequency')\n",
    "    plt.title('Distribution')\n",
    "    plt.show()\n",
    "    print(f' ')"
   ]
  },
  {
   "cell_type": "markdown",
   "id": "0b5b7fd7-9d38-432e-a875-b81e37ada0c7",
   "metadata": {},
   "source": [
    "### Visualize Relationships Between Numerical Variables and Race Points"
   ]
  },
  {
   "cell_type": "code",
   "execution_count": 83,
   "id": "1a57162d-e8dc-48f6-9d66-3665f9702d63",
   "metadata": {
    "tags": []
   },
   "outputs": [
    {
     "data": {
      "image/png": "[encoded data removed]",
      "text/plain": [
       "<Figure size 640x480 with 1 Axes>"
      ]
     },
     "metadata": {},
     "output_type": "display_data"
    }
   ],
   "source": [
    "sns.boxplot(data=qualy_finished,x=\"year\", y=\"race_points\", palette=\"colorblind\")\n",
    "plt.xlabel(column)\n",
    "plt.ylabel('Race Points')\n",
    "plt.title(f'Distribution of Race Points by Year')\n",
    "plt.show()"
   ]
  },
  {
   "cell_type": "code",
   "execution_count": 125,
   "id": "7d8442e2-cfd3-449a-946b-f3b88fa89b42",
   "metadata": {
    "tags": []
   },
   "outputs": [
    {
     "data": {
      "text/plain": [
       "[Text(0.5, 0, 'Circuit Altitude'),\n",
       " Text(0, 0.5, 'Race Points'),\n",
       " Text(0.5, 1.0, 'Race Points by Circuit Altitude')]"
      ]
     },
     "execution_count": 125,
     "metadata": {},
     "output_type": "execute_result"
    },
    {
     "data": {
      "image/png": "[encoded data removed]",
      "text/plain": [
       "<Figure size 640x480 with 1 Axes>"
      ]
     },
     "metadata": {},
     "output_type": "display_data"
    }
   ],
   "source": [
    "altitude_scatter = sns.regplot(data=qualy_finished, x=\"circuit_altitude\", y=\"race_points\",scatter=True,color=\"cadetblue\")\n",
    "altitude_scatter.set(xlabel =\"Circuit Altitude\", ylabel = \"Race Points\", title ='Race Points by Circuit Altitude')"
   ]
  },
  {
   "cell_type": "code",
   "execution_count": 127,
   "id": "a444536e-29c3-4f31-83fe-b0d4f4d1791e",
   "metadata": {
    "tags": []
   },
   "outputs": [
    {
     "data": {
      "text/plain": [
       "[Text(0.5, 0, 'Constructor Points'),\n",
       " Text(0, 0.5, 'Race Points'),\n",
       " Text(0.5, 1.0, 'Race Points by Constructor Points')]"
      ]
     },
     "execution_count": 127,
     "metadata": {},
     "output_type": "execute_result"
    },
    {
     "data": {
      "image/png": "[encoded data removed]",
      "text/plain": [
       "<Figure size 640x480 with 1 Axes>"
      ]
     },
     "metadata": {},
     "output_type": "display_data"
    }
   ],
   "source": [
    "constructorpts_scatter = sns.regplot(data=qualy_finished, x=\"constructor_points\", y=\"race_points\",scatter=True,color=\"cadetblue\")\n",
    "constructorpts_scatter.set(xlabel =\"Constructor Points\", ylabel = \"Race Points\", title ='Race Points by Constructor Points')"
   ]
  },
  {
   "cell_type": "markdown",
   "id": "85ea1dd8-8552-45e0-9f1c-f6c85c9c31d8",
   "metadata": {},
   "source": [
    "### Correlation Matrix"
   ]
  },
  {
   "cell_type": "code",
   "execution_count": 87,
   "id": "8ca93b87-fcff-44db-99f6-981e82a7be9e",
   "metadata": {
    "tags": []
   },
   "outputs": [],
   "source": [
    "corr = ['year','race_points','circuit_altitude','constructor_points','q1_complete','q2_complete','q3_complete']\n",
    "x = qualy_finished[corr]"
   ]
  },
  {
   "cell_type": "code",
   "execution_count": 88,
   "id": "1b34e206-9afe-4541-b13c-926afc841ace",
   "metadata": {
    "tags": []
   },
   "outputs": [
    {
     "data": {
      "text/html": [
       "<div>\n",
       "<style scoped>\n",
       "    .dataframe tbody tr th:only-of-type {\n",
       "        vertical-align: middle;\n",
       "    }\n",
       "\n",
       "    .dataframe tbody tr th {\n",
       "        vertical-align: top;\n",
       "    }\n",
       "\n",
       "    .dataframe thead th {\n",
       "        text-align: right;\n",
       "    }\n",
       "</style>\n",
       "<table border=\"1\" class=\"dataframe\">\n",
       "  <thead>\n",
       "    <tr style=\"text-align: right;\">\n",
       "      <th></th>\n",
       "      <th>year</th>\n",
       "      <th>race_points</th>\n",
       "      <th>circuit_altitude</th>\n",
       "      <th>constructor_points</th>\n",
       "      <th>q1_complete</th>\n",
       "      <th>q2_complete</th>\n",
       "      <th>q3_complete</th>\n",
       "    </tr>\n",
       "  </thead>\n",
       "  <tbody>\n",
       "    <tr>\n",
       "      <th>year</th>\n",
       "      <td>1.000000</td>\n",
       "      <td>0.014089</td>\n",
       "      <td>-0.025133</td>\n",
       "      <td>0.039718</td>\n",
       "      <td>NaN</td>\n",
       "      <td>NaN</td>\n",
       "      <td>NaN</td>\n",
       "    </tr>\n",
       "    <tr>\n",
       "      <th>race_points</th>\n",
       "      <td>0.014089</td>\n",
       "      <td>1.000000</td>\n",
       "      <td>-0.000744</td>\n",
       "      <td>0.869621</td>\n",
       "      <td>NaN</td>\n",
       "      <td>NaN</td>\n",
       "      <td>NaN</td>\n",
       "    </tr>\n",
       "    <tr>\n",
       "      <th>circuit_altitude</th>\n",
       "      <td>-0.025133</td>\n",
       "      <td>-0.000744</td>\n",
       "      <td>1.000000</td>\n",
       "      <td>0.002082</td>\n",
       "      <td>NaN</td>\n",
       "      <td>NaN</td>\n",
       "      <td>NaN</td>\n",
       "    </tr>\n",
       "    <tr>\n",
       "      <th>constructor_points</th>\n",
       "      <td>0.039718</td>\n",
       "      <td>0.869621</td>\n",
       "      <td>0.002082</td>\n",
       "      <td>1.000000</td>\n",
       "      <td>NaN</td>\n",
       "      <td>NaN</td>\n",
       "      <td>NaN</td>\n",
       "    </tr>\n",
       "    <tr>\n",
       "      <th>q1_complete</th>\n",
       "      <td>NaN</td>\n",
       "      <td>NaN</td>\n",
       "      <td>NaN</td>\n",
       "      <td>NaN</td>\n",
       "      <td>NaN</td>\n",
       "      <td>NaN</td>\n",
       "      <td>NaN</td>\n",
       "    </tr>\n",
       "    <tr>\n",
       "      <th>q2_complete</th>\n",
       "      <td>NaN</td>\n",
       "      <td>NaN</td>\n",
       "      <td>NaN</td>\n",
       "      <td>NaN</td>\n",
       "      <td>NaN</td>\n",
       "      <td>NaN</td>\n",
       "      <td>NaN</td>\n",
       "    </tr>\n",
       "    <tr>\n",
       "      <th>q3_complete</th>\n",
       "      <td>NaN</td>\n",
       "      <td>NaN</td>\n",
       "      <td>NaN</td>\n",
       "      <td>NaN</td>\n",
       "      <td>NaN</td>\n",
       "      <td>NaN</td>\n",
       "      <td>NaN</td>\n",
       "    </tr>\n",
       "  </tbody>\n",
       "</table>\n",
       "</div>"
      ],
      "text/plain": [
       "                        year  race_points  circuit_altitude  \\\n",
       "year                1.000000     0.014089         -0.025133   \n",
       "race_points         0.014089     1.000000         -0.000744   \n",
       "circuit_altitude   -0.025133    -0.000744          1.000000   \n",
       "constructor_points  0.039718     0.869621          0.002082   \n",
       "q1_complete              NaN          NaN               NaN   \n",
       "q2_complete              NaN          NaN               NaN   \n",
       "q3_complete              NaN          NaN               NaN   \n",
       "\n",
       "                    constructor_points  q1_complete  q2_complete  q3_complete  \n",
       "year                          0.039718          NaN          NaN          NaN  \n",
       "race_points                   0.869621          NaN          NaN          NaN  \n",
       "circuit_altitude              0.002082          NaN          NaN          NaN  \n",
       "constructor_points            1.000000          NaN          NaN          NaN  \n",
       "q1_complete                        NaN          NaN          NaN          NaN  \n",
       "q2_complete                        NaN          NaN          NaN          NaN  \n",
       "q3_complete                        NaN          NaN          NaN          NaN  "
      ]
     },
     "execution_count": 88,
     "metadata": {},
     "output_type": "execute_result"
    }
   ],
   "source": [
    "x.corr()"
   ]
  },
  {
   "cell_type": "code",
   "execution_count": 129,
   "id": "ea97ea84-8cb3-4436-9b14-936fc1ff0d37",
   "metadata": {
    "tags": []
   },
   "outputs": [
    {
     "data": {
      "text/plain": [
       "<Axes: >"
      ]
     },
     "execution_count": 129,
     "metadata": {},
     "output_type": "execute_result"
    },
    {
     "data": {
      "image/png": "[encoded data removed]",
      "text/plain": [
       "<Figure size 640x480 with 2 Axes>"
      ]
     },
     "metadata": {},
     "output_type": "display_data"
    }
   ],
   "source": [
    "sns.heatmap(x.corr(), annot=True,cmap=sns.color_palette(\"crest\", as_cmap=True))"
   ]
  },
  {
   "cell_type": "markdown",
   "id": "9e4d27c4-9ce8-4e8d-b9bd-6e9274c85799",
   "metadata": {},
   "source": [
    "### Joining driver first and last name and making a driver_name column"
   ]
  },
  {
   "cell_type": "code",
   "execution_count": 93,
   "id": "3eefa289-db18-448d-a889-7ef22f796ee2",
   "metadata": {
    "tags": []
   },
   "outputs": [],
   "source": [
    "qualy_finished ['driver_name'] = qualy_finished['drivers_forename'] + ' ' + qualy_finished['drivers_surname'] "
   ]
  },
  {
   "cell_type": "code",
   "execution_count": 94,
   "id": "a502e666-102d-4e67-a5cf-d4eb60688541",
   "metadata": {
    "tags": []
   },
   "outputs": [],
   "source": [
    "qualy_finished = qualy_finished.drop(['drivers_forename','drivers_surname'],axis=1)\n",
    "\n",
    "#ignore the Key error if you see, the code works and the error will disappear when you run it. \n",
    "#I just ran the code twice so its just saying the columns dont exist since I deleted it the first time it ran."
   ]
  },
  {
   "cell_type": "code",
   "execution_count": 95,
   "id": "67544f11-8fe7-4e62-b23f-443bf00e0d5e",
   "metadata": {
    "tags": []
   },
   "outputs": [
    {
     "name": "stdout",
     "output_type": "stream",
     "text": [
      "<class 'pandas.core.frame.DataFrame'>\n",
      "Int64Index: 3482 entries, 0 to 3481\n",
      "Data columns (total 20 columns):\n",
      " #   Column                Non-Null Count  Dtype  \n",
      "---  ------                --------------  -----  \n",
      " 0   Unnamed: 0            3482 non-null   int64  \n",
      " 1   raceId                3482 non-null   int64  \n",
      " 2   year                  3482 non-null   int64  \n",
      " 3   circuitId             3482 non-null   int64  \n",
      " 4   race_name             3482 non-null   object \n",
      " 5   driverId              3481 non-null   float64\n",
      " 6   constructorId         3481 non-null   float64\n",
      " 7   race_points           3482 non-null   float64\n",
      " 8   race_fastestLapTime   3481 non-null   object \n",
      " 9   race_fastestLapSpeed  3481 non-null   object \n",
      " 10  dob                   3481 non-null   object \n",
      " 11  qualifyId             3482 non-null   float64\n",
      " 12  circuit_name          3482 non-null   object \n",
      " 13  circuit_altitude      3482 non-null   int64  \n",
      " 14  constructor_points    3482 non-null   float64\n",
      " 15  constructor_name      3481 non-null   object \n",
      " 16  q1_complete           3482 non-null   int32  \n",
      " 17  q2_complete           3482 non-null   int32  \n",
      " 18  q3_complete           3482 non-null   int32  \n",
      " 19  driver_name           3481 non-null   object \n",
      "dtypes: float64(5), int32(3), int64(5), object(7)\n",
      "memory usage: 530.5+ KB\n"
     ]
    }
   ],
   "source": [
    "qualy_finished.info()"
   ]
  },
  {
   "cell_type": "markdown",
   "id": "5e4b1032-3936-492b-b76e-fb638346ea0f",
   "metadata": {},
   "source": [
    "## Categorical Assessment"
   ]
  },
  {
   "cell_type": "markdown",
   "id": "c7497dfc-bac0-4a36-a3fe-61915cf434f9",
   "metadata": {},
   "source": [
    "#### Summary Statistics - unique values, mode, min, max"
   ]
  },
  {
   "cell_type": "code",
   "execution_count": 98,
   "id": "f2f250b2-e8f0-4f73-b43d-c343217a6d74",
   "metadata": {
    "tags": []
   },
   "outputs": [
    {
     "data": {
      "text/plain": [
       "Bahrain Grand Prix             182\n",
       "British Grand Prix             162\n",
       "Hungarian Grand Prix           162\n",
       "Spanish Grand Prix             162\n",
       "Italian Grand Prix             162\n",
       "Belgian Grand Prix             162\n",
       "Abu Dhabi Grand Prix           162\n",
       "Austrian Grand Prix            162\n",
       "Japanese Grand Prix            142\n",
       "United States Grand Prix       142\n",
       "Monaco Grand Prix              142\n",
       "Australian Grand Prix          141\n",
       "Canadian Grand Prix            122\n",
       "Singapore Grand Prix           122\n",
       "Russian Grand Prix             122\n",
       "Azerbaijan Grand Prix          120\n",
       "Chinese Grand Prix             102\n",
       "Mexican Grand Prix              82\n",
       "Brazilian Grand Prix            82\n",
       "French Grand Prix               80\n",
       "Saudi Arabian Grand Prix        80\n",
       "German Grand Prix               62\n",
       "Emilia Romagna Grand Prix       61\n",
       "Miami Grand Prix                60\n",
       "São Paulo Grand Prix            60\n",
       "Mexico City Grand Prix          60\n",
       "Dutch Grand Prix                60\n",
       "Malaysian Grand Prix            42\n",
       "Portuguese Grand Prix           40\n",
       "Turkish Grand Prix              40\n",
       "Qatar Grand Prix                40\n",
       "Styrian Grand Prix              40\n",
       "European Grand Prix             22\n",
       "Sakhir Grand Prix               20\n",
       "Eifel Grand Prix                20\n",
       "Tuscan Grand Prix               20\n",
       "70th Anniversary Grand Prix     20\n",
       "Las Vegas Grand Prix            20\n",
       "Name: race_name, dtype: int64"
      ]
     },
     "execution_count": 98,
     "metadata": {},
     "output_type": "execute_result"
    }
   ],
   "source": [
    "qualy_finished['race_name'].value_counts()"
   ]
  },
  {
   "cell_type": "code",
   "execution_count": 99,
   "id": "89bf4ded-931d-4177-8445-545b954517f7",
   "metadata": {
    "tags": []
   },
   "outputs": [
    {
     "data": {
      "text/plain": [
       "count                   3482\n",
       "unique                    38\n",
       "top       Bahrain Grand Prix\n",
       "freq                     182\n",
       "Name: race_name, dtype: object"
      ]
     },
     "execution_count": 99,
     "metadata": {},
     "output_type": "execute_result"
    }
   ],
   "source": [
    "qualy_finished['race_name'].describe()\n",
    "\n",
    "# Bahrain Grand Prix has the most number of observations, which is 182.Therefore, this is the mode.\n",
    "\n",
    "#for some reason the max formula doesn't give this race name, anyone knows why that might be the case??"
   ]
  },
  {
   "cell_type": "code",
   "execution_count": 100,
   "id": "28a68441-191c-4258-a288-05795c0e4bf8",
   "metadata": {
    "tags": []
   },
   "outputs": [
    {
     "data": {
      "text/plain": [
       "'United States Grand Prix'"
      ]
     },
     "execution_count": 100,
     "metadata": {},
     "output_type": "execute_result"
    }
   ],
   "source": [
    "qualy_finished['race_name'].max() "
   ]
  },
  {
   "cell_type": "code",
   "execution_count": 101,
   "id": "9fb77341-e8c1-4e2f-9db9-a540332865a6",
   "metadata": {
    "tags": []
   },
   "outputs": [
    {
     "data": {
      "text/plain": [
       "'70th Anniversary Grand Prix'"
      ]
     },
     "execution_count": 101,
     "metadata": {},
     "output_type": "execute_result"
    }
   ],
   "source": [
    "qualy_finished['race_name'].min() "
   ]
  },
  {
   "cell_type": "code",
   "execution_count": 102,
   "id": "3a7166d2-a2d4-48cc-b8fd-ccfe31ea1d4e",
   "metadata": {
    "tags": []
   },
   "outputs": [
    {
     "data": {
      "text/plain": [
       "Bahrain International Circuit           202\n",
       "Red Bull Ring                           202\n",
       "Silverstone Circuit                     182\n",
       "Yas Marina Circuit                      162\n",
       "Circuit de Barcelona-Catalunya          162\n",
       "Hungaroring                             162\n",
       "Circuit de Spa-Francorchamps            162\n",
       "Autodromo Nazionale di Monza            162\n",
       "Suzuka Circuit                          142\n",
       "Autódromo José Carlos Pace              142\n",
       "Circuit de Monaco                       142\n",
       "Autódromo Hermanos Rodríguez            142\n",
       "Baku City Circuit                       142\n",
       "Circuit of the Americas                 142\n",
       "Albert Park Grand Prix Circuit          141\n",
       "Circuit Gilles Villeneuve               122\n",
       "Sochi Autodrom                          122\n",
       "Marina Bay Street Circuit               122\n",
       "Shanghai International Circuit          102\n",
       "Jeddah Corniche Circuit                  80\n",
       "Circuit Paul Ricard                      80\n",
       "Hockenheimring                           62\n",
       "Autodromo Enzo e Dino Ferrari            61\n",
       "Miami International Autodrome            60\n",
       "Circuit Park Zandvoort                   60\n",
       "Sepang International Circuit             42\n",
       "Autódromo Internacional do Algarve       40\n",
       "Istanbul Park                            40\n",
       "Losail International Circuit             40\n",
       "Nürburgring                              20\n",
       "Autodromo Internazionale del Mugello     20\n",
       "Las Vegas Strip Street Circuit           20\n",
       "Name: circuit_name, dtype: int64"
      ]
     },
     "execution_count": 102,
     "metadata": {},
     "output_type": "execute_result"
    }
   ],
   "source": [
    "qualy_finished['circuit_name'].value_counts()"
   ]
  },
  {
   "cell_type": "code",
   "execution_count": 103,
   "id": "d908c2f3-78f7-43db-aaad-be3713979d6a",
   "metadata": {
    "tags": []
   },
   "outputs": [
    {
     "data": {
      "text/plain": [
       "count                              3482\n",
       "unique                               32\n",
       "top       Bahrain International Circuit\n",
       "freq                                202\n",
       "Name: circuit_name, dtype: object"
      ]
     },
     "execution_count": 103,
     "metadata": {},
     "output_type": "execute_result"
    }
   ],
   "source": [
    "qualy_finished['circuit_name'].describe()"
   ]
  },
  {
   "cell_type": "markdown",
   "id": "bbeceaa4-af5d-4481-a9d4-0512c58ad748",
   "metadata": {
    "tags": []
   },
   "source": [
    "The mode is Bahrain International Circuit as well as Red Bull Ring. \n",
    "\n",
    "The circuits least observed are Nürburgring, Autodromo Internazionale del Mugell, and Las Vegas Strip Street Circuit."
   ]
  },
  {
   "cell_type": "code",
   "execution_count": 105,
   "id": "c65809e0-7260-4164-b905-8df457eeba07",
   "metadata": {
    "tags": []
   },
   "outputs": [
    {
     "data": {
      "text/plain": [
       "Mercedes          344\n",
       "Haas F1 Team      344\n",
       "Ferrari           344\n",
       "McLaren           344\n",
       "Red Bull          344\n",
       "Williams          343\n",
       "Alfa Romeo        208\n",
       "Renault           200\n",
       "Toro Rosso        166\n",
       "AlphaTauri        166\n",
       "Aston Martin      144\n",
       "Alpine F1 Team    144\n",
       "Sauber            136\n",
       "Force India       124\n",
       "Racing Point       76\n",
       "Manor Marussia     42\n",
       "RB F1 Team         12\n",
       "Name: constructor_name, dtype: int64"
      ]
     },
     "execution_count": 105,
     "metadata": {},
     "output_type": "execute_result"
    }
   ],
   "source": [
    "qualy_finished['constructor_name'].value_counts()"
   ]
  },
  {
   "cell_type": "code",
   "execution_count": 106,
   "id": "eab1a570-29df-4e08-849c-67af6a44245e",
   "metadata": {
    "tags": []
   },
   "outputs": [
    {
     "data": {
      "text/plain": [
       "count         3481\n",
       "unique          17\n",
       "top       Mercedes\n",
       "freq           344\n",
       "Name: constructor_name, dtype: object"
      ]
     },
     "execution_count": 106,
     "metadata": {},
     "output_type": "execute_result"
    }
   ],
   "source": [
    "qualy_finished['constructor_name'].describe()"
   ]
  },
  {
   "cell_type": "markdown",
   "id": "bd5a79d5-ce3c-45b9-8197-81d260ba7f99",
   "metadata": {},
   "source": [
    "The mode for constructor (the constructors with most number of observations) are Mercedes, Haas F1 Team, Ferrari, McLaren and Red Bull. The constructor with the least number of observations is RB F1 Team."
   ]
  },
  {
   "cell_type": "markdown",
   "id": "305ce75f-3485-4fb8-8f20-e877f83b36eb",
   "metadata": {},
   "source": [
    "#### Bar plots "
   ]
  },
  {
   "cell_type": "code",
   "execution_count": 121,
   "id": "fddf6a12-61cc-4cce-968c-59e75722cac4",
   "metadata": {
    "tags": []
   },
   "outputs": [
    {
     "data": {
      "image/png": "[encoded data removed]",
      "text/plain": [
       "<Figure size 1000x1400 with 3 Axes>"
      ]
     },
     "metadata": {},
     "output_type": "display_data"
    }
   ],
   "source": [
    "#Subplots for Bar Graphs of Categorical Variables\n",
    "\n",
    "fig, axs = plt.subplots(3, 1, figsize=(10, 14))\n",
    "fig.suptitle(\"Bar Graphs for Categorical variables\", fontweight=\"bold\")\n",
    "\n",
    "sns.countplot(data= qualy_finished, \n",
    "            x=\"constructor_name\",\n",
    "            color=\"cadetblue\",\n",
    "            ax=axs[0])\n",
    "axs[0].tick_params(axis = 'x',labelrotation=90,labelsize=7)\n",
    "axs[0].set_title(\"Frequency by Constructor\")\n",
    "\n",
    "sns.countplot(data= qualy_finished, \n",
    "            x=\"circuit_name\",\n",
    "            color=\"cadetblue\",\n",
    "            ax=axs[1])\n",
    "axs[1].tick_params(axis = 'x',labelrotation=90, labelsize=6)\n",
    "axs[1].set_title(\"Frequency by Circuit\")\n",
    "\n",
    "sns.countplot(data= qualy_finished, \n",
    "            x=\"race_name\",\n",
    "            color=\"cadetblue\",\n",
    "            ax=axs[2])\n",
    "axs[2].tick_params( axis = 'x', labelrotation=90, labelsize=6)\n",
    "axs[2].set_title(\"Frequency by Races\")\n",
    "\n",
    "plt.tight_layout()"
   ]
  },
  {
   "cell_type": "code",
   "execution_count": 111,
   "id": "edf8458e-ccb3-41e8-b57c-7ecca25f785d",
   "metadata": {
    "tags": []
   },
   "outputs": [
    {
     "data": {
      "text/plain": [
       "constructor_name\n",
       "Alfa Romeo         147.0\n",
       "AlphaTauri         306.0\n",
       "Alpine F1 Team     436.0\n",
       "Aston Martin       440.0\n",
       "Ferrari           3497.5\n",
       "Force India        471.0\n",
       "Haas F1 Team       247.0\n",
       "Manor Marussia       1.0\n",
       "McLaren           1321.0\n",
       "Mercedes          4929.5\n",
       "RB F1 Team          13.0\n",
       "Racing Point       283.0\n",
       "Red Bull          4294.5\n",
       "Renault            459.0\n",
       "Sauber              55.0\n",
       "Toro Rosso         234.0\n",
       "Williams           286.0\n",
       "Name: race_points, dtype: float64"
      ]
     },
     "execution_count": 111,
     "metadata": {},
     "output_type": "execute_result"
    }
   ],
   "source": [
    "total_points = qualy_finished.groupby('constructor_name')['race_points'].sum()\n",
    "total_points"
   ]
  },
  {
   "cell_type": "code",
   "execution_count": 117,
   "id": "bd365fee-728a-410c-a35c-505cbf0629ae",
   "metadata": {
    "tags": []
   },
   "outputs": [
    {
     "data": {
      "text/plain": [
       "Text(0.5, 1.0, 'Bar Plot for Total Race Points per Constructor (2016-2024)')"
      ]
     },
     "execution_count": 117,
     "metadata": {},
     "output_type": "execute_result"
    },
    {
     "data": {
      "image/png": "[encoded data removed]",
      "text/plain": [
       "<Figure size 1200x700 with 1 Axes>"
      ]
     },
     "metadata": {},
     "output_type": "display_data"
    }
   ],
   "source": [
    "#Bar plot for total race points per constructor\n",
    "\n",
    "qualy_finished.groupby('constructor_name')['race_points'].sum().plot(kind=\"bar\", color = \"cadetblue\", figsize = (12,7), xlabel=\"Constructor\", ylabel = \"Frequency\")\n",
    "plt.title('Bar Plot for Total Race Points per Constructor (2016-2024)',fontweight=\"bold\")\n"
   ]
  },
  {
   "cell_type": "code",
   "execution_count": 119,
   "id": "5eba8d50-6dd3-4143-ade1-be6d9c0030af",
   "metadata": {
    "tags": []
   },
   "outputs": [
    {
     "data": {
      "text/plain": [
       "Text(0.5, 1.0, 'Bar Plot for Total Constructor Points per Constructor (2016-2024)')"
      ]
     },
     "execution_count": 119,
     "metadata": {},
     "output_type": "execute_result"
    },
    {
     "data": {
      "image/png": "[encoded data removed]",
      "text/plain": [
       "<Figure size 1200x700 with 1 Axes>"
      ]
     },
     "metadata": {},
     "output_type": "display_data"
    }
   ],
   "source": [
    "#Bar plot for total race points per constructor\n",
    "\n",
    "qualy_finished.groupby('constructor_name')['constructor_points'].sum().plot(kind=\"bar\", color = \"cadetblue\", figsize = (12,7), xlabel=\"Constructor\", ylabel = \"Frequency\")\n",
    "plt.title('Bar Plot for Total Constructor Points per Constructor (2016-2024)',fontweight=\"bold\")\n"
   ]
  }
 ],
 "metadata": {
  "kernelspec": {
   "display_name": "Python 3 (ipykernel)",
   "language": "python",
   "name": "python3"
  },
  "language_info": {
   "codemirror_mode": {
    "name": "ipython",
    "version": 3
   },
   "file_extension": ".py",
   "mimetype": "text/x-python",
   "name": "python",
   "nbconvert_exporter": "python",
   "pygments_lexer": "ipython3",
   "version": "3.11.4"
  }
 },
 "nbformat": 4,
 "nbformat_minor": 5
}
